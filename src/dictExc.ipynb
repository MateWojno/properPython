{
 "cells": [
  {
   "cell_type": "markdown",
   "metadata": {},
   "source": [
    "# Manage data with Python dictionaries"
   ]
  },
  {
   "cell_type": "code",
   "execution_count": null,
   "metadata": {},
   "outputs": [],
   "source": [
    "# MIT @MateWojno mateusz.k.wojno@gmail.com"
   ]
  },
  {
   "cell_type": "markdown",
   "metadata": {},
   "source": [
    "# By the end of this module, you'll be able to:\n",
    "\n",
    "## `Identify when to use a dictionary`\n",
    "\n",
    "### `Create and modify data inside a dictionary`\n",
    "\n",
    "#### `Utilize keys and values methods to access dictionary data`"
   ]
  },
  {
   "cell_type": "markdown",
   "metadata": {},
   "source": [
    "# Python dictionaries allow you to work with related sets of data. \n",
    "\n",
    "A dictionary is a collection of `key/value pairs.` \n",
    "\n",
    "Think of it like a group of variables inside of a container, where\n",
    " \n",
    "## `the key is the name of the variable`\n",
    "\n",
    "## `and the value is the value stored inside it.`"
   ]
  },
  {
   "cell_type": "markdown",
   "metadata": {},
   "source": [
    "# Create a dictionary\n",
    "\n",
    "`Python uses curly braces ({ }) and the colon (:) to denote a dictionary.`\n",
    "\n",
    " You can either create an empty dictionary and add values later, or populate it at creation time. \n",
    " \n",
    " `Each key/value is separated`\n",
    " # by a colon, and the name of each key is contained in quotes as a string literal. \n",
    " \n",
    " Because the key is a string literal, you can use whatever name is appropriate to describe the value.\n",
    "\n",
    "Let's create a dictionary to store the `name of the planet Earth`, and the `number of moons Earth has`:"
   ]
  },
  {
   "cell_type": "code",
   "execution_count": 3,
   "metadata": {},
   "outputs": [],
   "source": [
    "planet = {\n",
    "    'name': 'Earth', #very important to separate by \",\"\n",
    "    'moons' : 1\n",
    "}"
   ]
  },
  {
   "cell_type": "markdown",
   "metadata": {},
   "source": [
    "You have `two keys, 'name' and 'moons'.` \n",
    "\n",
    "Each of these behaves in much the same way as a variable: they have a unique name, and they store a value. \n",
    "\n",
    "# However, they are contained inside of a single, larger variable, named planet.\n",
    "\n",
    "Just as with regular variables, you need to ensure that you're using the correct data types. \n",
    "\n",
    "In the moons value of 1 in the preceding example, `you didn't include quotes around the number`, because you want to use an `integer`. \n",
    "\n",
    "If you had used '1', Python would see this as a string, which would affect your ability to perform calculations.\n",
    "\n",
    "`Unlike regular variables`, \n",
    "## key names don't need to follow standard naming rules for Python. You can use this to be more descriptive in your code.\n",
    "\n",
    "## Read dictionary values\n",
    "\n",
    "You can read values inside a dictionary. \n",
    "\n",
    "Dictionary objects have a get method that you can use to access a value by using its key. \n",
    "\n",
    "#### If you want to print the name, you can use the following code:"
   ]
  },
  {
   "cell_type": "code",
   "execution_count": 7,
   "metadata": {},
   "outputs": [
    {
     "name": "stdout",
     "output_type": "stream",
     "text": [
      "Earth\n",
      "Earth\n"
     ]
    }
   ],
   "source": [
    "# As you might suspect, accessing values in a dictionary is a common operation. Fortunately, there's a shortcut. You can also pass the key into square bracket notation ([ ]). This uses less code than get, and most programmers use this syntax instead. You could rewrite the preceding example by using the following:\n",
    "\n",
    "print(planet.get('name'))\n",
    "# the same\n",
    "print(planet['name'])"
   ]
  },
  {
   "cell_type": "code",
   "execution_count": 8,
   "metadata": {},
   "outputs": [
    {
     "name": "stdout",
     "output_type": "stream",
     "text": [
      "None\n"
     ]
    },
    {
     "ename": "KeyError",
     "evalue": "'noice'",
     "output_type": "error",
     "traceback": [
      "\u001b[1;31m---------------------------------------------------------------------------\u001b[0m",
      "\u001b[1;31mKeyError\u001b[0m                                  Traceback (most recent call last)",
      "\u001b[1;32mc:\\Users\\MKW-lip-2021\\Desktop\\Python0001-Learning\\src\\dictExc.ipynb Cell 9\u001b[0m in \u001b[0;36m<cell line: 5>\u001b[1;34m()\u001b[0m\n\u001b[0;32m      <a href='vscode-notebook-cell:/c%3A/Users/MKW-lip-2021/Desktop/Python0001-Learning/src/dictExc.ipynb#X11sZmlsZQ%3D%3D?line=0'>1</a>\u001b[0m \u001b[39m# Although the behavior of get and the square brackets ([ ]) is generally the same for retrieving items, there is one key difference. If a key isn't available, get returns None, and [ ] raises a KeyError.\u001b[39;00m\n\u001b[0;32m      <a href='vscode-notebook-cell:/c%3A/Users/MKW-lip-2021/Desktop/Python0001-Learning/src/dictExc.ipynb#X11sZmlsZQ%3D%3D?line=2'>3</a>\u001b[0m \u001b[39mprint\u001b[39m(planet\u001b[39m.\u001b[39mget(\u001b[39m'\u001b[39m\u001b[39mnoice\u001b[39m\u001b[39m'\u001b[39m)) \u001b[39m#returns None \u001b[39;00m\n\u001b[1;32m----> <a href='vscode-notebook-cell:/c%3A/Users/MKW-lip-2021/Desktop/Python0001-Learning/src/dictExc.ipynb#X11sZmlsZQ%3D%3D?line=4'>5</a>\u001b[0m \u001b[39mprint\u001b[39m(planet[\u001b[39m'\u001b[39;49m\u001b[39mnoice\u001b[39;49m\u001b[39m'\u001b[39;49m])\n",
      "\u001b[1;31mKeyError\u001b[0m: 'noice'"
     ]
    }
   ],
   "source": [
    "# Although the behavior of get and the square brackets ([ ]) is generally the same for retrieving items, there is one key difference. If a key isn't available, get returns None, and [ ] raises a KeyError.\n",
    "\n",
    "print(planet.get('noice')) #returns None \n",
    "\n",
    "print(planet['noice']) # returns KeyError\n"
   ]
  },
  {
   "cell_type": "markdown",
   "metadata": {},
   "source": [
    "# Modify dictionary values\n",
    "\n",
    "You can also modify values inside a dictionary object, by using \n",
    "## `the update method`. \n",
    "\n",
    "This method accepts a dictionary as a parameter, and updates any existing values with the new ones you provide. \n",
    "\n",
    "If you want to change the name for the planet dictionary, you can use the following, for example:"
   ]
  },
  {
   "cell_type": "code",
   "execution_count": 18,
   "metadata": {},
   "outputs": [
    {
     "name": "stdout",
     "output_type": "stream",
     "text": [
      "{'name': 'Makemake', 'moons': 1}\n",
      "<class 'dict'>\n"
     ]
    }
   ],
   "source": [
    "planet.update({'name':'Makemake'})\n",
    "print(planet)\n",
    "print(type(planet))\n",
    "\n",
    "#Similar to using the square brackets ([ ]) shortcut to read values, you can use the same shortcut to modify values. The key difference in syntax is that you use = (sometimes called the assignment operator) to provide a new value. To rewrite the preceding example to change the name, you can use the following:"
   ]
  },
  {
   "cell_type": "code",
   "execution_count": 17,
   "metadata": {},
   "outputs": [
    {
     "name": "stdout",
     "output_type": "stream",
     "text": [
      "{'name': 'AnotherOne', 'moons': 1}\n",
      "<class 'dict'>\n"
     ]
    }
   ],
   "source": [
    "planet['name'] = 'AnotherOne'\n",
    "\n",
    "print(planet)\n",
    "print(type(planet))"
   ]
  },
  {
   "cell_type": "markdown",
   "metadata": {},
   "source": [
    "The key advantage to using `update` is the ability to \n",
    "\n",
    "# `modify multiple values in one operation.` \n",
    "\n",
    "The next two examples are logically the same, but the syntax is different. \n",
    "\n",
    "You are free to use whichever syntax you feel is most appropriate. \n",
    "\n",
    "For updating `individual values`, most developers `choose square brackets`. \n",
    "# '[]'\n",
    "\n",
    "The following example makes the same edits to our planet variable, updating the name and moons. \n",
    "\n",
    "# Notice that by using update, you're making a `single call` to the function, \n",
    "\n",
    "## `whereas using square brackets involves two calls.`"
   ]
  },
  {
   "cell_type": "code",
   "execution_count": 22,
   "metadata": {},
   "outputs": [
    {
     "name": "stdout",
     "output_type": "stream",
     "text": [
      "First example {'name': 'Jupiter', 'moons': 79}\n",
      "Second one {'name': 'Jupiter', 'moons': 79}\n"
     ]
    }
   ],
   "source": [
    "# using update\n",
    "planet.update({\n",
    "    'name': 'Jupiter', #remember about ',' !\n",
    "    'moons': 79\n",
    "}) \n",
    "\n",
    "print('First example', planet)\n",
    "# using square '[]' brackets\n",
    "\n",
    "planet['name'] = 'Jupiter'\n",
    "planet['moons'] = 79\n",
    "\n",
    "print('Second one', planet)"
   ]
  },
  {
   "cell_type": "markdown",
   "metadata": {},
   "source": [
    "# Add and remove keys\n",
    "\n",
    "You're not required to create all keys when you `initialize a dictionary.` \n",
    "\n",
    "### `In fact, you don't need to create any!` \n",
    "\n",
    "Whenever you want to create a new key, you assign it just as you would an existing one.\n",
    "\n",
    "Let's say you want to update planet to include the orbital period in days:"
   ]
  },
  {
   "cell_type": "code",
   "execution_count": 24,
   "metadata": {},
   "outputs": [
    {
     "name": "stdout",
     "output_type": "stream",
     "text": [
      "{'name': 'Jupiter', 'moons': 79, 'orbital period': 4333, 'mass': 100000000000}\n"
     ]
    }
   ],
   "source": [
    "planet['orbital period'] = 4333\n",
    "planet['mass']= 100000000000\n",
    "\n",
    "print(planet)\n",
    "\n",
    "#Key names, like everything else in Python, are case sensitive. As a result, 'name' and 'Name' are seen as two separate keys in a Python dictionary.\n",
    "\n"
   ]
  },
  {
   "cell_type": "markdown",
   "metadata": {},
   "source": [
    "# To remove a key, you use pop. \n",
    "\n",
    "pop returns the value and removes the key from the dictionary. To remove orbital period, you can use the following code:"
   ]
  },
  {
   "cell_type": "code",
   "execution_count": null,
   "metadata": {},
   "outputs": [],
   "source": [
    "planet.pop('mass')\n",
    "\n",
    "print(planet)"
   ]
  },
  {
   "cell_type": "markdown",
   "metadata": {},
   "source": [
    "# Complex data types\n",
    "\n",
    "### Dictionaries are able to store any type of a value, `including other dictionaries.` \n",
    "\n",
    "This allows you to model complex data as needed. \n",
    "\n",
    "Imagine needing to store the diameter for planet, which could be measured around its equator or poles. \n",
    "\n",
    "You can create another dictionary inside of planet to store this information:"
   ]
  },
  {
   "cell_type": "code",
   "execution_count": 32,
   "metadata": {},
   "outputs": [
    {
     "name": "stdout",
     "output_type": "stream",
     "text": [
      "{'name': 'Jupiter', 'moons': 79, 'orbital period': 4333, 'diameter (km)': {'polar': 133709, 'equatorial': 142984}}\n"
     ]
    }
   ],
   "source": [
    "# add adress\n",
    "planet['diameter (km)'] = {\n",
    "    'polar': 133709,\n",
    "    'equatorial' : 142984\n",
    "}\n",
    "\n",
    "print(planet)"
   ]
  },
  {
   "cell_type": "markdown",
   "metadata": {},
   "source": [
    "# To retrieve values in `a nested dictionary`\n",
    "\n",
    " `you chain together square brackets, or calls to get.`"
   ]
  },
  {
   "cell_type": "code",
   "execution_count": 35,
   "metadata": {},
   "outputs": [
    {
     "name": "stdout",
     "output_type": "stream",
     "text": [
      "Jupiter polar diameter : 133709\n"
     ]
    }
   ],
   "source": [
    "print(f'{planet[\"name\"]} polar diameter : {planet[\"diameter (km)\"][\"polar\"]}')"
   ]
  },
  {
   "cell_type": "markdown",
   "metadata": {},
   "source": [
    "# EXC 1\n",
    "\n",
    "Exercise: Create and modify a Python dictionary\n",
    "\n",
    "Python dictionaries allow you to model more complex data. \n",
    "\n",
    "Dictionaries are a collection of key/value pairs, and are very common in Python programs. \n",
    "\n",
    "Their flexibility allows you to dynamically work with related values without having to create classes or objects.\n",
    "\n",
    "This exercise is broken into a series of steps. \n",
    "\n",
    "\n",
    "### `Managing planet data`\n",
    "\n",
    "You want to create a program which will store and display information about planets. \n",
    "\n",
    "To start you will use one planet. Create a variable named planet. Store the following values as a dictionary:"
   ]
  },
  {
   "cell_type": "code",
   "execution_count": 43,
   "metadata": {},
   "outputs": [
    {
     "name": "stdout",
     "output_type": "stream",
     "text": [
      "{'name': 'Mars', 'moons': 2}\n"
     ]
    }
   ],
   "source": [
    "planet = {\n",
    "'name' : 'Mars',\n",
    "'moons' : 2    \n",
    "}\n",
    "\n",
    "print (planet)"
   ]
  },
  {
   "cell_type": "code",
   "execution_count": 44,
   "metadata": {},
   "outputs": [
    {
     "name": "stdout",
     "output_type": "stream",
     "text": [
      "Mars has 2 moon(s)\n",
      "{'name': 'Mars', 'moons': 2}\n"
     ]
    }
   ],
   "source": [
    "print(f'{planet[\"name\"]} has {planet[\"moons\"]} moon(s)')\n",
    "print(planet)"
   ]
  },
  {
   "cell_type": "markdown",
   "metadata": {},
   "source": [
    "# Add circumference information\n",
    "You can update existing keys or create new ones by either using the update method or using square brackets ([ ]). \n",
    "\n",
    "When you're using update, you pass in a new dictionary object with the updated or new values. \n",
    "\n",
    "When using square brackets, you specify the key name and assign a new value.\n",
    "\n",
    "`Add a new value to planet with a key of 'circumference (km)'.` \n",
    "\n",
    "This new value should store a dictionary with the planet's two circumferences:\n",
    "\n",
    "polar: 6752\n",
    "\n",
    "equatorial: 6792\n",
    "\n",
    "Finally, add the code to print the polar circumference of the planet. You can use whatever sentence formatting you wish."
   ]
  },
  {
   "cell_type": "code",
   "execution_count": 47,
   "metadata": {},
   "outputs": [
    {
     "name": "stdout",
     "output_type": "stream",
     "text": [
      "Mars has a polar circumference of 6752\n"
     ]
    }
   ],
   "source": [
    "planet['circumference (km)'] = {\n",
    "    'polar': 6752, #remember about ' , '\n",
    "    'equatorial': 6792\n",
    "}\n",
    "\n",
    "print(f'{planet[\"name\"]} has a polar circumference of {planet[\"circumference (km)\"][\"polar\"]}')\n",
    "\n",
    "\n",
    "\n",
    "\n"
   ]
  },
  {
   "cell_type": "markdown",
   "metadata": {},
   "source": [
    "# Dynamic programming with dictionaries\n",
    "\n",
    "In your program, you want to perform various calculations, like totaling the number of moons. \n",
    "\n",
    "Additionally, as you get into more `advanced programming`, you might find that you're loading this type of information \n",
    "# `from files` or a `database`, rather than coding directly into Python.\n",
    "\n",
    "To help support these scenarios, Python enables you to treat both the keys and values inside of a dictionary as a list. \n",
    "\n",
    "You can dynamically determine keys and values, and perform various calculations.\n",
    "\n",
    "Imagine a dictionary storing monthly rainfall amounts. \n",
    "\n",
    "You would likely have keys for each month and the associated rainfall. \n",
    "\n",
    "You want to add up the total rainfall, and writing the code to perform the operation by using each individual key would be rather tedious.\n",
    "\n",
    "### Retrieve all keys and values\n",
    "\n",
    "The keys() method returns a list object that contains all the keys. \n",
    "\n",
    "`You can use this method to iterate through all items in the dictionary.`\n",
    "\n",
    "Imagine you have the following dictionary, storing the last three months of rainfall."
   ]
  },
  {
   "cell_type": "code",
   "execution_count": 50,
   "metadata": {},
   "outputs": [
    {
     "name": "stdout",
     "output_type": "stream",
     "text": [
      "<class 'dict'>\n",
      "{'october': 3.5, 'november': 4.2, 'december': 2.1}\n"
     ]
    }
   ],
   "source": [
    "rainfall = {\n",
    "    'october' : 3.5,\n",
    "    'november' : 4.2,\n",
    "    'december' : 2.1\n",
    "}\n",
    "\n",
    "print(type(rainfall))\n",
    "print(rainfall)"
   ]
  },
  {
   "cell_type": "code",
   "execution_count": 51,
   "metadata": {},
   "outputs": [
    {
     "name": "stdout",
     "output_type": "stream",
     "text": [
      "october: 3.5cm\n",
      "november: 4.2cm\n",
      "december: 2.1cm\n"
     ]
    }
   ],
   "source": [
    "for key in rainfall.keys():\n",
    "    print(f'{key}: {rainfall[key]}cm')"
   ]
  },
  {
   "cell_type": "markdown",
   "metadata": {},
   "source": [
    "# Determine if a key exists in a dictionary\n",
    "\n",
    "When you update a value in a dictionary, Python will either \n",
    "## `overwrite the existing value`\n",
    " or `create a new one, if the key doesn't exist.` \n",
    " \n",
    " If you wish `to add` to a value rather than overwriting it, you can check to see if the key exists by using in. \n",
    " \n",
    " For example, if you want to add a value to December or create a new one if it doesn't exist, you can use the following:"
   ]
  },
  {
   "cell_type": "code",
   "execution_count": 52,
   "metadata": {},
   "outputs": [
    {
     "name": "stdout",
     "output_type": "stream",
     "text": [
      "{'october': 3.5, 'november': 4.2, 'december': 3.1}\n"
     ]
    }
   ],
   "source": [
    "if 'december' in rainfall:\n",
    "    rainfall['december'] = rainfall['december']+ 1\n",
    "else :\n",
    "    rainfall['december'] = 1\n",
    "\n",
    "print (rainfall)"
   ]
  },
  {
   "cell_type": "markdown",
   "metadata": {},
   "source": [
    "# Retrieve all values\n",
    "\n",
    "Similar to keys(), \n",
    "\n",
    "# `values()` returns the list of all values in a dictionary without their respective keys. \n",
    "\n",
    "This can be helpful when you're using the key for labeling purposes, such as the preceding example, in which the keys are the name of the month. \n",
    "\n",
    "`You can use values() to determine the total rainfall amount:`"
   ]
  },
  {
   "cell_type": "code",
   "execution_count": 53,
   "metadata": {},
   "outputs": [
    {
     "name": "stdout",
     "output_type": "stream",
     "text": [
      "There was 10.8cm in the last quater\n"
     ]
    }
   ],
   "source": [
    "total_rainfall = 0\n",
    "for value in rainfall.values():\n",
    "    total_rainfall = total_rainfall + value\n",
    "\n",
    "print(f'There was {total_rainfall}cm in the last quater')"
   ]
  },
  {
   "cell_type": "markdown",
   "metadata": {},
   "source": [
    "# Exc 2\n",
    "\n",
    "## Calculating values\n",
    "\n",
    "In this scenario, you will calculate both the total number of moons in the solar system and the average number of moons a planet has. \n",
    "\n",
    "You will do this by using a dictionary object.\n",
    "\n",
    "### Start by creating a variable named `planet_moons` as a dictionary with the following key/values:\n",
    "\n",
    "mercury: 0,\n",
    "\n",
    "venus: 0,\n",
    "\n",
    "earth: 1,\n",
    "\n",
    "mars: 2,\n",
    "\n",
    "jupiter: 79,\n",
    "\n",
    "saturn: 82,\n",
    "\n",
    "uranus: 27,\n",
    "\n",
    "neptune: 14,\n",
    "\n",
    "pluto: 5,\n",
    "\n",
    "haumea: 2,\n",
    "\n",
    "makemake: 1,\n",
    "\n",
    "eris: 1"
   ]
  },
  {
   "cell_type": "code",
   "execution_count": 55,
   "metadata": {},
   "outputs": [
    {
     "name": "stdout",
     "output_type": "stream",
     "text": [
      "<class 'dict'>\n",
      "{'mercury': 0, 'venus': 0, 'earth': 1, 'mars': 2, 'jupiter': 79, 'saturn': 82, 'uranus': 27, 'neptune': 14, 'pluto': 5, 'haumea': 2, 'makemake': 1, 'eris': 1}\n"
     ]
    }
   ],
   "source": [
    "planet_moons = {\n",
    "    'mercury' : 0,\n",
    "    'venus' : 0,\n",
    "    'earth' : 1,\n",
    "    'mars' : 2,\n",
    "    'jupiter' : 79,\n",
    "    'saturn' : 82,\n",
    "    'uranus' : 27,\n",
    "    'neptune' : 14,\n",
    "    'pluto' : 5,\n",
    "    'haumea' : 2,\n",
    "    'makemake' : 1,\n",
    "    'eris' : 1\n",
    "}\n",
    "\n",
    "print(type(planet_moons))\n",
    "print(planet_moons)"
   ]
  },
  {
   "cell_type": "markdown",
   "metadata": {},
   "source": [
    "# Obtain a list of moons and number of planets\n",
    "\n",
    "Python dictionaries allow you to retrieve all the values and keys by using the `values and keys methods`, respectively. \n",
    "\n",
    "Each method returns a list containing the data, \n",
    "### `which can then be used like a regular Python list.` \n",
    "\n",
    "You can determine the number of items by using `len`, and iterate through it by using for loops. \n",
    "\n",
    "In the dictionary you created, \n",
    "\n",
    "## the planet names are `keys` \n",
    "\n",
    "## and the number of moons are the `values`.\n",
    "\n",
    "Start by retrieving a list with the number of moons, and store this in a `variable named moons`. \n",
    "\n",
    "Then obtain the total number of planets and store that value in a variable named total_planets."
   ]
  },
  {
   "cell_type": "code",
   "execution_count": 58,
   "metadata": {},
   "outputs": [
    {
     "name": "stdout",
     "output_type": "stream",
     "text": [
      "dict_values([0, 0, 1, 2, 79, 82, 27, 14, 5, 2, 1, 1])\n",
      "12\n"
     ]
    }
   ],
   "source": [
    "moons = planet_moons.values()\n",
    "total_planets = len(planet_moons.keys())\n",
    "\n",
    "print(moons)\n",
    "print(total_planets)"
   ]
  },
  {
   "cell_type": "markdown",
   "metadata": {},
   "source": [
    "# Determine the average number of moons\n",
    "\n",
    "You will finish this exercise by determining the average number of moons. \n",
    "\n",
    "Start by creating a variable named `total_moons`; \n",
    "\n",
    "this will be your counter for the total number of moons. \n",
    "\n",
    "### `Then add a for loop to loop through the list of moons`, adding each value to total_moons. \n",
    "\n",
    "Finally, calculate the `average` by dividing `total_moons` by `total_planets` and displaying the value."
   ]
  },
  {
   "cell_type": "code",
   "execution_count": 61,
   "metadata": {},
   "outputs": [
    {
     "name": "stdout",
     "output_type": "stream",
     "text": [
      "Each planet as an average of 17.833333333333332 moons\n"
     ]
    }
   ],
   "source": [
    "total_moons = 0\n",
    "for moon in moons:\n",
    "    total_moons = total_moons + moon\n",
    "\n",
    "average = total_moons / total_planets\n",
    "print(f'Each planet as an average of {average} moons')"
   ]
  }
 ],
 "metadata": {
  "kernelspec": {
   "display_name": "Python 3.10.4 ('env': venv)",
   "language": "python",
   "name": "python3"
  },
  "language_info": {
   "codemirror_mode": {
    "name": "ipython",
    "version": 3
   },
   "file_extension": ".py",
   "mimetype": "text/x-python",
   "name": "python",
   "nbconvert_exporter": "python",
   "pygments_lexer": "ipython3",
   "version": "3.10.4"
  },
  "orig_nbformat": 4,
  "vscode": {
   "interpreter": {
    "hash": "1872149bdc4a65c263bf4d65a55bf0f6ee3f2abf08c4eafb5e5fc685078fa7e7"
   }
  }
 },
 "nbformat": 4,
 "nbformat_minor": 2
}
