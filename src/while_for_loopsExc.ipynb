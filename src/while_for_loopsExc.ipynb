{
 "cells": [
  {
   "cell_type": "markdown",
   "metadata": {},
   "source": [
    "# Use `'while'` and `'for'` loops in Python"
   ]
  },
  {
   "cell_type": "markdown",
   "metadata": {},
   "source": [
    "# Scenario: Working with flow control on a planetary app\n",
    "\n",
    "\n",
    "Imagine you're creating an application where users will enter a list of planet names. After the users enter the names, you'll display the results back to them. This will require prompting them multiple times to enter values, and when they're done, your code will print out all the data in the list. In this module, we'll explore how you can use while and for loops to create this application.\n",
    "\n",
    "By the end of the module, you'll be able to use while and for loops.\n",
    "\n",
    "## `What will you learn?`\n",
    "After you've completed this module, you'll be able to:\n",
    "\n",
    "`Identify when to use while and for loops.`\n",
    "\n",
    "`Run a task multiple times by using while loops.`\n",
    "\n",
    "`Loop over list data by using for loops.`\n",
    "\n",
    "### What is the main objective?\n",
    "\n",
    "``In this module, you'll learn how to apply flow control to your app to repeat statements and work with list structures.``"
   ]
  },
  {
   "cell_type": "markdown",
   "metadata": {},
   "source": [
    "## A `while loop` performs an operation while a certain `condition is true.`\n",
    "\n",
    "You could look to see if there's another line in a file, a flag has been set, a user has finished entering values, or something else has changed to indicate that the code can stop performing the operation.\n",
    "\n",
    " Important\n",
    "\n",
    "`The most important thing to remember when you create while loops is to ensure that the condition changes. If the condition is always true, Python will continue to run your code until the program crashes.`"
   ]
  },
  {
   "cell_type": "code",
   "execution_count": 8,
   "metadata": {},
   "outputs": [],
   "source": [
    "user_input = ''\n",
    "\n",
    "while user_input.lower() != 'done':\n",
    "    user_input = input('Enter new value, or done when done')"
   ]
  },
  {
   "cell_type": "code",
   "execution_count": 19,
   "metadata": {},
   "outputs": [
    {
     "name": "stdout",
     "output_type": "stream",
     "text": [
      "Your list contains:  ['Mama', 'Tata', 'Ja'] the length is:  3\n"
     ]
    }
   ],
   "source": [
    "# create a var for user input\n",
    "user_input = ''\n",
    "# create the list to store the values\n",
    "inputs = []\n",
    "\n",
    "# The while loop\n",
    "while user_input.lower() != 'done':\n",
    "    # checks if there is a value in user_input 'done'\n",
    "    if user_input:\n",
    "        # store the value in the list\n",
    "        inputs.append(user_input)\n",
    "    # prompt for a new value\n",
    "    user_input = input ('Enter a new value, or done when done')\n",
    "\n",
    "#my modyfication\n",
    "print ('Your list contains: ', inputs, 'the length is: ', len(inputs))"
   ]
  },
  {
   "cell_type": "markdown",
   "metadata": {},
   "source": [
    "# Notice the `if statement inside the while loop`. \n",
    "\n",
    "This statement tests for a string value inside user_input. \n",
    "\n",
    "If the while loop is running for the first time, there is no value, so there's nothing to store in inputs. \n",
    "\n",
    "After it runs for the first time, user_input always keeps the value that the user has just entered. \n",
    "\n",
    "Because while is testing to ensure that the value doesn't equal done (the word the user will enter to exit the app), you know that the current value is one that you can add to the list.\n",
    "\n",
    "# Note\n",
    "\n",
    "You might be familiar with other programming languages that support a `do loop`, which lets you perform a test at the bottom of the loop. \n",
    "\n",
    "## `Python doesn't provide a do loop.`"
   ]
  },
  {
   "cell_type": "markdown",
   "metadata": {},
   "source": [
    "### EXC 1\n",
    "\n",
    "Using while loops in Python\n",
    "\n",
    "In Python, while loops let you run code an unknown number of times. \n",
    "\n",
    "The loops examine a Boolean condition and, `as long as the condition is true, the code inside the loop will run`. \n",
    "\n",
    "This is very useful for situations like prompting a user for values.\n",
    "\n",
    "In this exercise, you're creating an application that prompts a user to enter a list of planets. \n",
    "\n",
    "In a later exercise, you'll add code that displays the list. \n",
    "\n",
    "For now, though, you'll create only the code that prompts the user.\n",
    "\n",
    "\n",
    "Start by adding two variables, one for the `input` from the user, `named new_planet`, and another variable for the `list` of planets, named `planets`."
   ]
  },
  {
   "cell_type": "markdown",
   "metadata": {},
   "source": [
    "# Create a while loop\n",
    "\n",
    "Starting with the variables you've just created, create a while loop. \n",
    "\n",
    "`The while loop will run while new_planet is not set to done.`\n",
    "\n",
    "Inside the loop, check to see whether the new_planet variable contains a value, which should be the name of a planet. This is a quick way to see whether the user has entered a value. If they have, your code will append that value to the planets variable.\n",
    "\n",
    "Complete the while loop by using input to prompt the user to either enter a new planet name or to use done if they've done entering planet names. You'll store the value from input in the new_planet variable.\n",
    "\n",
    "Finally, outside of the while loop, print the list of planets by using print.\n",
    "\n",
    "As you complete this part of the exercise, pay attention to tab levels to ensure code is run at the correct time."
   ]
  },
  {
   "cell_type": "code",
   "execution_count": 21,
   "metadata": {},
   "outputs": [
    {
     "name": "stdout",
     "output_type": "stream",
     "text": [
      "Your list contains:  ['Mars', 'Jupyter', 'Earth', 'Red Moon'] the length is:  4\n"
     ]
    }
   ],
   "source": [
    "new_planet = ''\n",
    "planets = []\n",
    "\n",
    "# The while loop\n",
    "while new_planet.lower() != 'done':\n",
    "    # checks if there is a value in user_input 'done'\n",
    "    if new_planet:\n",
    "        # store the value in the list\n",
    "        planets.append(new_planet)\n",
    "    # prompt for a new value\n",
    "    new_planet = input ('Enter a new value, or done when done')\n",
    "\n",
    "#my modyfication\n",
    "print ('Your list contains: ', planets, 'the length is: ', len(planets))"
   ]
  },
  {
   "cell_type": "markdown",
   "metadata": {},
   "source": [
    "# `Use 'for' loops with lists`"
   ]
  },
  {
   "cell_type": "code",
   "execution_count": 22,
   "metadata": {},
   "outputs": [
    {
     "name": "stdout",
     "output_type": "stream",
     "text": [
      "['Mercury', 'Venus', 'Earth', 'Mars', 'Jupiter', 'Saturn', 'Uranus', 'Neptune']\n"
     ]
    }
   ],
   "source": [
    "planets = [\"Mercury\", \"Venus\", \"Earth\", \"Mars\", \"Jupiter\", \"Saturn\", \"Uranus\", \"Neptune\"]\n",
    "print(planets)"
   ]
  },
  {
   "cell_type": "markdown",
   "metadata": {},
   "source": [
    "You can also determine the number of items in a list by using `len`. \n",
    "\n",
    "So you could use a while loop and a counter to loop or `iterate` over each item in the list. \n",
    "\n",
    "Because this is such a common operation, Python provides `for loops`, which you can use `to iterate over lists`.\n",
    "\n",
    "# Python has many types that can be looped over. These types are known as `iterables.`\n",
    "\n",
    "\n",
    "Python `lists` are `iterable`, and they can be used with a for loop. \n",
    "\n",
    "You use a for loop with iterables where you'll loop a known number of times, once for each item in the iterable."
   ]
  },
  {
   "cell_type": "markdown",
   "metadata": {},
   "source": [
    "# About for loops\n",
    "Here is an example for loop that counts down from 4 to 0:"
   ]
  },
  {
   "cell_type": "code",
   "execution_count": 24,
   "metadata": {},
   "outputs": [
    {
     "name": "stdout",
     "output_type": "stream",
     "text": [
      "10\n",
      "9\n",
      "8\n",
      "7\n",
      "6\n",
      "5\n",
      "4\n",
      "3\n",
      "2\n",
      "1\n",
      "0\n",
      "Blast off!! 🚀\n"
     ]
    }
   ],
   "source": [
    "countdown = [10,9,8,7,6,5,4, 3, 2, 1, 0]\n",
    "for number in countdown:\n",
    "    print(number)\n",
    "print(\"Blast off!! 🚀\")"
   ]
  },
  {
   "cell_type": "markdown",
   "metadata": {},
   "source": [
    "# The for loop is a statement with `five` important parts:\n",
    "\n",
    "The word `for`, followed by a space.\n",
    "\n",
    "The `variable name` you want to create for each value in the sequence (number).\n",
    "\n",
    "The word `in`, surrounded by spaces.\n",
    "\n",
    "The `name of the list` (countdown, in the preceding example), or iterable that you want to loop over, \n",
    "# `followed by a colon (:).`\n",
    "\n",
    "The `code` you want to run for each item in the iterable, separated by `nested whitespace`. \n",
    "# nested means successively fit inside another.\n",
    "\n",
    "\n",
    "Let's change that code to `wait for one second` between each number \n",
    "# by using the sleep() function:"
   ]
  },
  {
   "cell_type": "code",
   "execution_count": 26,
   "metadata": {},
   "outputs": [
    {
     "name": "stdout",
     "output_type": "stream",
     "text": [
      "10\n",
      "9\n",
      "8\n",
      "7\n",
      "6\n",
      "5\n",
      "4\n",
      "3\n",
      "2\n",
      "1\n",
      "0\n",
      "Blast off!! 🚀\n"
     ]
    }
   ],
   "source": [
    "from time import sleep\n",
    "\n",
    "countdown = [10,9,8,7,6,5,4,3,2,1,0]\n",
    "for number in countdown:\n",
    "    print(number)\n",
    "    sleep(1) # wait 1 sec\n",
    "print(\"Blast off!! 🚀\")"
   ]
  },
  {
   "cell_type": "markdown",
   "metadata": {},
   "source": [
    "#  Note\n",
    "\n",
    "Most Python code uses `four spaces` as the unit of whitespace. \n",
    "\n",
    "To save having to press the space bar four times, most editors have a \n",
    "# `Tab key` shortcut that inserts four spaces."
   ]
  },
  {
   "cell_type": "markdown",
   "metadata": {},
   "source": [
    "Exc 1\n",
    "\n",
    "# Exercise - Loop over a list\n",
    "\n",
    "In the previous exercise, you created code to prompt users to enter a list of planet names. \n",
    "\n",
    "In this exercise, you'll complete the application by writing code that displays the planet names one by one.\n",
    "\n",
    "This exercise is broken into a series of steps. For each step you will be presented with the goal for the step, followed by an empty cell. Enter your Python into the cell and run it. The solution for each step will follow each cell.\n",
    "\n",
    "The first cell contains the code from the prior exercise, without the print statement. Run the cell and provide a list of planets."
   ]
  },
  {
   "cell_type": "code",
   "execution_count": 27,
   "metadata": {},
   "outputs": [],
   "source": [
    "# Run this cell and provide a list of planets\n",
    "\n",
    "new_planet = ''\n",
    "planets = []\n",
    "\n",
    "while new_planet.lower() != 'done':\n",
    "    if new_planet:\n",
    "        planets.append(new_planet)\n",
    "    new_planet = input('Enter a new planet or done if done')"
   ]
  },
  {
   "cell_type": "markdown",
   "metadata": {},
   "source": [
    "## Display the list of planets\n",
    "\n",
    "The planets variable stores the planet names that a user entered. \n",
    "\n",
    "### You'll now use a for loop to display those entries.\n",
    "\n",
    "`Create a for loop` to iterate over the planets name list. \n",
    "\n",
    "You can use planet as the name of the variable for each planet. \n",
    "\n",
    "Inside the for loop, use print to display each planet name."
   ]
  },
  {
   "cell_type": "code",
   "execution_count": 29,
   "metadata": {},
   "outputs": [
    {
     "name": "stdout",
     "output_type": "stream",
     "text": [
      "Jupyter\n",
      "Mars\n",
      "Earth\n"
     ]
    }
   ],
   "source": [
    "planet = ''\n",
    "planets = ['Jupyter','Mars','Earth']\n",
    "\n",
    "for planet in planets:\n",
    "   print (planet)\n",
    "        \n",
    "   "
   ]
  }
 ],
 "metadata": {
  "kernelspec": {
   "display_name": "Python 3.10.4 ('env': venv)",
   "language": "python",
   "name": "python3"
  },
  "language_info": {
   "codemirror_mode": {
    "name": "ipython",
    "version": 3
   },
   "file_extension": ".py",
   "mimetype": "text/x-python",
   "name": "python",
   "nbconvert_exporter": "python",
   "pygments_lexer": "ipython3",
   "version": "3.10.4"
  },
  "orig_nbformat": 4,
  "vscode": {
   "interpreter": {
    "hash": "1872149bdc4a65c263bf4d65a55bf0f6ee3f2abf08c4eafb5e5fc685078fa7e7"
   }
  }
 },
 "nbformat": 4,
 "nbformat_minor": 2
}
