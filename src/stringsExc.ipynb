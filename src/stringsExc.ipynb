{
 "cells": [
  {
   "cell_type": "markdown",
   "metadata": {},
   "source": [
    "# 06.08.2022\n",
    "\n",
    "## Operations on strings"
   ]
  },
  {
   "cell_type": "code",
   "execution_count": 1,
   "metadata": {},
   "outputs": [
    {
     "data": {
      "text/plain": [
       "'Temperatures And Facts About The Moon'"
      ]
     },
     "execution_count": 1,
     "metadata": {},
     "output_type": "execute_result"
    }
   ],
   "source": [
    "\"temperatures and facts about the moon\".title()"
   ]
  },
  {
   "cell_type": "code",
   "execution_count": 3,
   "metadata": {},
   "outputs": [
    {
     "data": {
      "text/plain": [
       "'Temperatures And Facts About The Moon'"
      ]
     },
     "execution_count": 3,
     "metadata": {},
     "output_type": "execute_result"
    }
   ],
   "source": [
    "heading = \"temperatures and facts about the moon\"\n",
    "heading.title()\n",
    "'Temperatures And Facts About The Moon'"
   ]
  },
  {
   "cell_type": "markdown",
   "metadata": {},
   "source": [
    "# Split a string\n",
    "A common string method is .split(). Without arguments, the method will separate the string at every space. This would create a list of every word or number that's separated by a space:"
   ]
  },
  {
   "cell_type": "code",
   "execution_count": 5,
   "metadata": {},
   "outputs": [
    {
     "data": {
      "text/plain": [
       "['Daylight:', '260', 'F', 'Nighttime:', '-', '280', 'F']"
      ]
     },
     "execution_count": 5,
     "metadata": {},
     "output_type": "execute_result"
    }
   ],
   "source": [
    "temperatures = \"\"\" Daylight: 260 F\n",
    "    Nighttime: - 280 F\"\"\"\n",
    "temperatures.split()"
   ]
  },
  {
   "cell_type": "code",
   "execution_count": 6,
   "metadata": {},
   "outputs": [
    {
     "data": {
      "text/plain": [
       "[' Daylight: 260 F', '    Nighttime: - 280 F']"
      ]
     },
     "execution_count": 6,
     "metadata": {},
     "output_type": "execute_result"
    }
   ],
   "source": [
    "temperatures = \"\"\" Daylight: 260 F\n",
    "    Nighttime: - 280 F\"\"\"\n",
    "temperatures.split('\\n')"
   ]
  },
  {
   "cell_type": "markdown",
   "metadata": {},
   "source": [
    "# Search for a string\n",
    "Aside from using a loop, some string methods can look for content before processing, without the need for a loop. Let's assume that you have two sentences that discuss temperatures on various planets and moons, but you're interested only in temperatures that are related to our Moon. That is, if the sentences aren't talking about the Moon, they shouldn't be processed to extract information.\n",
    "\n",
    "The simplest way to discover whether a given word, character, or group of characters exists in a string is without using a method:\n",
    "\n",
    "## An approach to finding the position of a specific word in a string is to use the .find() method:"
   ]
  },
  {
   "cell_type": "code",
   "execution_count": 7,
   "metadata": {},
   "outputs": [
    {
     "data": {
      "text/plain": [
       "92"
      ]
     },
     "execution_count": 7,
     "metadata": {},
     "output_type": "execute_result"
    }
   ],
   "source": [
    "temperatures = \"\"\" Saturn has a daytime temperature of -170 degrees Celsius,\n",
    "while Mars has - 28 Celsius,\n",
    "but Moon has -200 Celsius.\"\"\"\n",
    "temperatures.find('Moon')"
   ]
  },
  {
   "cell_type": "markdown",
   "metadata": {},
   "source": [
    "The .find() method returns a -1 when the word isn't found, or it returns the index (the number representing the place in the string). This is how it would behave if you're searching for the word Mars:\n",
    "\n",
    "# Another way to search for content is to use the .count() method, \n",
    "which returns the total number of occurrences of a certain word in a string:"
   ]
  },
  {
   "cell_type": "code",
   "execution_count": 8,
   "metadata": {},
   "outputs": [
    {
     "data": {
      "text/plain": [
       "1"
      ]
     },
     "execution_count": 8,
     "metadata": {},
     "output_type": "execute_result"
    }
   ],
   "source": [
    "temperatures = \"\"\" Saturn has a daytime temperature of -170 degrees Celsius,\n",
    "while Mars has - 28 Celsius,\n",
    "but Moon has -200 Celsius.\"\"\"\n",
    "temperatures.count('Mars')"
   ]
  },
  {
   "cell_type": "markdown",
   "metadata": {},
   "source": [
    "# Strings in Python are case-sensitive,\n",
    " which means that Moon and moon are considered different words. To do a case-insensitive comparison, you can convert a string to all lowercase letters by using the \n",
    " # .lower() method:"
   ]
  },
  {
   "cell_type": "code",
   "execution_count": 10,
   "metadata": {},
   "outputs": [
    {
     "data": {
      "text/plain": [
       "'the moon and earth'"
      ]
     },
     "execution_count": 10,
     "metadata": {},
     "output_type": "execute_result"
    }
   ],
   "source": [
    "'The moon and Earth'.lower()"
   ]
  },
  {
   "cell_type": "markdown",
   "metadata": {},
   "source": [
    "Similar to the .lower() method, strings have an \n",
    "# .upper() method that does the opposite, converting every character to uppercase:"
   ]
  },
  {
   "cell_type": "code",
   "execution_count": 11,
   "metadata": {},
   "outputs": [
    {
     "data": {
      "text/plain": [
       "'THE MOON AND EARTH'"
      ]
     },
     "execution_count": 11,
     "metadata": {},
     "output_type": "execute_result"
    }
   ],
   "source": [
    "'The moon and Earth'.upper()"
   ]
  },
  {
   "cell_type": "markdown",
   "metadata": {},
   "source": [
    "# Tip\n",
    "\n",
    "#### When you're searching for and checking content, a more robust approach is to lowercase a string so that casing doesn't prevent a match. For example, if you're counting the number of times the word the appears, the method wouldn't count the times where The appears, even though they're both the same word. You can use the .lower() method to change all characters to lowercase."
   ]
  },
  {
   "cell_type": "markdown",
   "metadata": {},
   "source": [
    "### Like the .isnumeric() method, .isdecimal() can check for strings that look like decimals.\n",
    "#### It might be surprising to learn that \"-70\".isnumeric() would return False. This is because all characters in the string would need to be numeric, and the dash (-) isn't numeric. If you need to check negative numbers in a string, the .isnumeric() method wouldn't work."
   ]
  },
  {
   "cell_type": "markdown",
   "metadata": {},
   "source": [
    "There are extra validations that you can apply on strings to check for values. For negative numbers, the dash is prefixed to the number, and that can be detected with the .startswith() method:"
   ]
  },
  {
   "cell_type": "code",
   "execution_count": 12,
   "metadata": {},
   "outputs": [
    {
     "data": {
      "text/plain": [
       "True"
      ]
     },
     "execution_count": 12,
     "metadata": {},
     "output_type": "execute_result"
    }
   ],
   "source": [
    "\"-60\".startswith('-')\n"
   ]
  },
  {
   "cell_type": "markdown",
   "metadata": {},
   "source": [
    "# EXC 1\n"
   ]
  },
  {
   "cell_type": "code",
   "execution_count": 17,
   "metadata": {},
   "outputs": [
    {
     "name": "stdout",
     "output_type": "stream",
     "text": [
      "['Interesting facts about the Moon', \"\\nThe Moon is Earth's only satellite\", '\\nThere are several interesting facts about the Moon and how it affects life here on Earth', '\\nOn average, the Moon moves 4cm away from the Earth every year', '\\nThis yearly drift is not significant enough to cause immediate effects on Earth', '\\nThe highest daylight temperature of the Moon is 127 C.']\n",
      "\n",
      "The highest daylight temperature of the Moon is 127 C.\n"
     ]
    }
   ],
   "source": [
    "text = \"\"\"Interesting facts about the Moon. \n",
    "The Moon is Earth's only satellite. \n",
    "There are several interesting facts about the Moon and how it affects life here on Earth. \n",
    "On average, the Moon moves 4cm away from the Earth every year. \n",
    "This yearly drift is not significant enough to cause immediate effects on Earth. \n",
    "The highest daylight temperature of the Moon is 127 C.\"\"\"\n",
    "sentences = text.split('. ') \n",
    "print (sentences)\n",
    "\n",
    "\n",
    "\n",
    "for sentence in sentences:\n",
    "    if 'temperature' in sentence:\n",
    "        print(sentence)"
   ]
  },
  {
   "cell_type": "markdown",
   "metadata": {},
   "source": [
    "# Percent sign (%) formatting\n",
    "The placeholder is %s, and the variable is passed onto the text after the % character outside the string. Here's how to format by using the % character:"
   ]
  },
  {
   "cell_type": "code",
   "execution_count": 20,
   "metadata": {},
   "outputs": [
    {
     "name": "stdout",
     "output_type": "stream",
     "text": [
      "On the Moon, you would weigh about 1/6 of your weight on Earth\n"
     ]
    }
   ],
   "source": [
    "mass_percentage = '1/6'\n",
    "print('On the Moon, you would weigh about %s of your weight on Earth' % mass_percentage)"
   ]
  },
  {
   "cell_type": "code",
   "execution_count": 24,
   "metadata": {},
   "outputs": [
    {
     "name": "stdout",
     "output_type": "stream",
     "text": [
      "Both sides of the Moon get the same amount of sunlight,\n",
      "but only one side is seen from Earth becouse\n",
      "the Moon rotates around its own axis when it orbits Earth.\n"
     ]
    }
   ],
   "source": [
    "print(\"\"\"Both sides of the %s get the same amount of sunlight,\n",
    "but only one side is seen from %s becouse\n",
    "the %s rotates around its own axis when it orbits %s.\"\"\" % ('Moon', 'Earth', 'Moon', 'Earth'))"
   ]
  },
  {
   "cell_type": "markdown",
   "metadata": {},
   "source": [
    "# The format() method\n",
    "The .format() method uses braces ({}) as placeholders within a string, and it uses variable assignment for replacing text."
   ]
  },
  {
   "cell_type": "code",
   "execution_count": 26,
   "metadata": {},
   "outputs": [
    {
     "name": "stdout",
     "output_type": "stream",
     "text": [
      "On the Moon, you would weigh about 1/6 of your weigh on the Earth\n"
     ]
    }
   ],
   "source": [
    "mass_percentage = '1/6'\n",
    "print('On the Moon, you would weigh about {} of your weigh on the Earth'.format(mass_percentage))"
   ]
  },
  {
   "cell_type": "code",
   "execution_count": 28,
   "metadata": {},
   "outputs": [
    {
     "name": "stdout",
     "output_type": "stream",
     "text": [
      "You are lighter on the Moon, becouse on the Moon\n",
      "you would weigh about 1/6 of your weigh on Earth\n"
     ]
    }
   ],
   "source": [
    "mass_percentage = '1/6'\n",
    "print(\"\"\"You are lighter on the {0}, becouse on the {0}\n",
    "you would weigh about {1} of your weigh on Earth\"\"\".format(\"Moon\", mass_percentage))"
   ]
  },
  {
   "cell_type": "code",
   "execution_count": 29,
   "metadata": {},
   "outputs": [
    {
     "name": "stdout",
     "output_type": "stream",
     "text": [
      "You are lighter on the Moon, becouse on the Moon\n",
      "you would weigh about 1/6 of your weigh on Earth\n"
     ]
    }
   ],
   "source": [
    "mass_percentage = '1/6'\n",
    "print(\"\"\"You are lighter on the {moon}, becouse on the {moon}\n",
    "you would weigh about {mass} of your weigh on Earth\"\"\".format(moon=\"Moon\", mass=mass_percentage))"
   ]
  },
  {
   "cell_type": "markdown",
   "metadata": {},
   "source": [
    "# About f-strings\n",
    "As of Python version 3.6, it's possible to use f-strings. These strings look like templates with the same named variables as those in code. Using f-strings in the preceding example would look like this:\n",
    "\n",
    "#### The variables go within braces, and the string must use the f prefix."
   ]
  },
  {
   "cell_type": "code",
   "execution_count": 31,
   "metadata": {},
   "outputs": [
    {
     "name": "stdout",
     "output_type": "stream",
     "text": [
      "On the Moon, you would weigh about 1/6 of your weigh on the Earth\n"
     ]
    }
   ],
   "source": [
    "print(f\"On the Moon, you would weigh about {mass_percentage} of your weigh on the Earth\")"
   ]
  },
  {
   "cell_type": "markdown",
   "metadata": {},
   "source": [
    "Aside from f-strings being less verbose than any other formatting option, it's possible to use expressions within the braces. These expressions can be functions or direct operations. For example, if you want to represent the 1/6 value as a percentage with one decimal place, you can use the \n",
    "# round() function directly:"
   ]
  },
  {
   "cell_type": "code",
   "execution_count": 33,
   "metadata": {},
   "outputs": [
    {
     "data": {
      "text/plain": [
       "16.7"
      ]
     },
     "execution_count": 33,
     "metadata": {},
     "output_type": "execute_result"
    }
   ],
   "source": [
    "round(100/6, 1)"
   ]
  },
  {
   "cell_type": "code",
   "execution_count": 35,
   "metadata": {},
   "outputs": [
    {
     "name": "stdout",
     "output_type": "stream",
     "text": [
      "On the Moon, you would weigh about 16.7% of your weigh on the Earth\n"
     ]
    }
   ],
   "source": [
    "print(f\"On the Moon, you would weigh about {round(100/6, 1)}% of your weigh on the Earth\")"
   ]
  },
  {
   "cell_type": "code",
   "execution_count": 36,
   "metadata": {},
   "outputs": [
    {
     "data": {
      "text/plain": [
       "'Interesting Facts About The Moon'"
      ]
     },
     "execution_count": 36,
     "metadata": {},
     "output_type": "execute_result"
    }
   ],
   "source": [
    "subject = 'interesting facts about the moon'\n",
    "f'{subject.title()}'"
   ]
  },
  {
   "cell_type": "markdown",
   "metadata": {},
   "source": [
    "# EXC 2\n",
    "## Exercise: Formatting strings\n",
    "\n",
    "Knowing how to format strings is essential when you're presenting information from a program. There are a few different ways to accomplish this in Python. In this exercise, you use variables that hold key facts about gravity on various moons and then use them to format and print the information.\n",
    "\n",
    "This exercise is broken into a series of steps. For each step you will be presented with the goal for the step, followed by an empty cell. Enter your Python into the cell and run it. The solution for each step will follow each cell.\n",
    "\n",
    "### Create the variables\n",
    "\n",
    "#### Start by creating three variables, name, gravity, and planet, and set them to the following values:\n",
    "\n",
    "name: Ganymede\n",
    "planet: Mars\n",
    "gravity: 1.43"
   ]
  },
  {
   "cell_type": "code",
   "execution_count": 44,
   "metadata": {},
   "outputs": [
    {
     "name": "stdout",
     "output_type": "stream",
     "text": [
      "Gravity facts about {name}\n",
      "-----------------------------------------\n",
      "Planet Name: {planet}\n",
      "Gravity on {name}: {gravity} m/s2\n"
     ]
    }
   ],
   "source": [
    "name ='Ganymede'\n",
    "gravity = '1.43'\n",
    "planet = 'Mars'\n",
    "template = \"\"\"Gravity facts about {name}\n",
    "-----------------------------------------\n",
    "Planet Name: {planet}\n",
    "Gravity on {name}: {gravity} m/s2\"\"\"\n",
    "print (template)"
   ]
  },
  {
   "cell_type": "code",
   "execution_count": 45,
   "metadata": {},
   "outputs": [
    {
     "name": "stdout",
     "output_type": "stream",
     "text": [
      "Gravity facts about Ganymede\n",
      "-----------------------------------------\n",
      "Planet Name: Mars\n",
      "Gravity on Ganymede: 1.43 m/s2\n"
     ]
    }
   ],
   "source": [
    "print(template.format(name=name, planet=planet, gravity=gravity))"
   ]
  },
  {
   "cell_type": "markdown",
   "metadata": {},
   "source": [
    "# Summary\n",
    "\n",
    "Completed\n",
    "\n",
    "100 XP\n",
    "\n",
    "1 minute\n",
    "\n",
    "Python strings are one of the most common types used in the language. In this module, you learned about some of its string properties and the most common methods for manipulating them. Finally, you saw ways to format strings by using three different techniques:\n",
    "\n",
    "## Using the % formatter.\n",
    "\n",
    "## Using .format() in a string.\n",
    "\n",
    "## Using f-strings.\n",
    "\n",
    "### This foundational knowledge will help you with other data structures in Python that work well with strings, such as dictionaries and lists."
   ]
  }
 ],
 "metadata": {
  "kernelspec": {
   "display_name": "Python 3.10.4 ('env': venv)",
   "language": "python",
   "name": "python3"
  },
  "language_info": {
   "codemirror_mode": {
    "name": "ipython",
    "version": 3
   },
   "file_extension": ".py",
   "mimetype": "text/x-python",
   "name": "python",
   "nbconvert_exporter": "python",
   "pygments_lexer": "ipython3",
   "version": "3.10.4"
  },
  "orig_nbformat": 4,
  "vscode": {
   "interpreter": {
    "hash": "1872149bdc4a65c263bf4d65a55bf0f6ee3f2abf08c4eafb5e5fc685078fa7e7"
   }
  }
 },
 "nbformat": 4,
 "nbformat_minor": 2
}
