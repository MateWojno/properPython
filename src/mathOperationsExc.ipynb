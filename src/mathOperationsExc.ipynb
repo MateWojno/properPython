{
 "cells": [
  {
   "cell_type": "markdown",
   "metadata": {},
   "source": [
    "# `Use mathematical operations in Python`"
   ]
  },
  {
   "cell_type": "code",
   "execution_count": 2,
   "metadata": {},
   "outputs": [
    {
     "data": {
      "text/plain": [
       "223"
      ]
     },
     "execution_count": 2,
     "metadata": {},
     "output_type": "execute_result"
    }
   ],
   "source": [
    "1 + 222"
   ]
  },
  {
   "cell_type": "code",
   "execution_count": 4,
   "metadata": {},
   "outputs": [
    {
     "name": "stdout",
     "output_type": "stream",
     "text": [
      "-2120\n"
     ]
    }
   ],
   "source": [
    "answer = 1 - 2121\n",
    "print(answer)"
   ]
  },
  {
   "cell_type": "code",
   "execution_count": 7,
   "metadata": {},
   "outputs": [
    {
     "name": "stdout",
     "output_type": "stream",
     "text": [
      "24\n"
     ]
    }
   ],
   "source": [
    "a = 2\n",
    "b = 12\n",
    "multiplication = a*b\n",
    "print(multiplication)"
   ]
  },
  {
   "cell_type": "code",
   "execution_count": 10,
   "metadata": {},
   "outputs": [
    {
     "name": "stdout",
     "output_type": "stream",
     "text": [
      "6.0\n"
     ]
    }
   ],
   "source": [
    "division = 12/2\n",
    "print(division)"
   ]
  },
  {
   "cell_type": "markdown",
   "metadata": {},
   "source": [
    "The number you're interested in is simply 17. You always want to round down, by using what's known as floor division. \n",
    "## To perform floor division in Python, you use //."
   ]
  },
  {
   "cell_type": "code",
   "execution_count": 20,
   "metadata": {},
   "outputs": [
    {
     "name": "stdout",
     "output_type": "stream",
     "text": [
      "17 minutes and 22 seconds.\n"
     ]
    }
   ],
   "source": [
    "seconds = 1042\n",
    "display_minutes = seconds//60\n",
    "display_seconds = seconds % 60\n",
    "print(display_minutes, \"minutes and\", display_seconds, \"seconds.\")"
   ]
  },
  {
   "cell_type": "markdown",
   "metadata": {},
   "source": [
    "# Order of operation\n",
    "\n",
    "Python honors the order of operation for math. The order of operation dictates that expressions should be evaluated in the following order:\n",
    "\n",
    "\n",
    "Parentheses\n",
    "\n",
    "Exponents\n",
    "\n",
    "Multiplication and division\n",
    "\n",
    "Addition and subtraction"
   ]
  },
  {
   "cell_type": "markdown",
   "metadata": {},
   "source": [
    "# EXC 1\n",
    "## Arithmetic operators in Python\n",
    "\n",
    "Python provides common arithmetic operators so you can perform mathematic operations in your code. These include the four core operations of addition, subtraction, multiplication, and division.\n",
    "\n",
    "Let's explore how we can create a program that can calculate the distance between two planets. We'll start by using two planet distances: Earth (149,597,870 km) and Jupiter (778,547,200 km).\n",
    "\n",
    "This exercise is broken into a series of steps. For each step you will be presented with the goal for the step, followed by an empty cell. Enter your Python into the cell and run it. The solution for each step will follow each cell.\n",
    "\n",
    "Note: Remove the commas when you're using the values.\n",
    "\n",
    "Create variables to store the distances\n",
    "\n",
    "### Start by creating two variables named `first_planet` and `second_planet`. Set first_planet to the distance from the sun to Earth, and second_planet for the distance from the sun to Jupiter."
   ]
  },
  {
   "cell_type": "code",
   "execution_count": 28,
   "metadata": {},
   "outputs": [
    {
     "name": "stdout",
     "output_type": "stream",
     "text": [
      "628949330 km 390810995.0389724 miles\n"
     ]
    }
   ],
   "source": [
    "first_planet = 149597870      #Distance from the sun to Earth\n",
    "second_planet = 778547200    #Distance from sun to Jupiter\n",
    "distance_km = second_planet - first_planet\n",
    "distance_mi = distance_km/1.609344\n",
    "print(distance_km, \"km\" , distance_mi, \"miles\")\n"
   ]
  },
  {
   "cell_type": "markdown",
   "metadata": {},
   "source": [
    "# Convert strings to numbers\n",
    "\n",
    "Python supports two main types of numbers: integers (or int) and floating point (or float). The key difference between the two is the existence of a decimal point; integers are whole numbers, while floats contain a decimal value.\n",
    "\n",
    "When you're converting strings to numbers, you indicate the type of number you want to create. You must decide if you need a decimal point. You use int to `convert to an integer`, and `float to convert to a floating point number`."
   ]
  },
  {
   "cell_type": "code",
   "execution_count": 32,
   "metadata": {},
   "outputs": [
    {
     "name": "stdout",
     "output_type": "stream",
     "text": [
      "215\n",
      "<class 'int'>\n"
     ]
    }
   ],
   "source": [
    "demo_int = int('215') #str converted to int\n",
    "print(demo_int)\n",
    "print(type(demo_int))"
   ]
  },
  {
   "cell_type": "code",
   "execution_count": 33,
   "metadata": {},
   "outputs": [
    {
     "name": "stdout",
     "output_type": "stream",
     "text": [
      "215.3\n",
      "<class 'float'>\n"
     ]
    }
   ],
   "source": [
    "demo_float = float(\"215.3\")\n",
    "print(demo_float)\n",
    "print(type(demo_float))"
   ]
  },
  {
   "cell_type": "markdown",
   "metadata": {},
   "source": [
    "# `Absolute values`\n",
    "\n",
    "An absolute value in math is the non-negative number without its sign. Using an absolute value can be useful in different situations, including our example of looking to determine distance between two planets. Consider the following math:"
   ]
  },
  {
   "cell_type": "code",
   "execution_count": 38,
   "metadata": {},
   "outputs": [
    {
     "name": "stdout",
     "output_type": "stream",
     "text": [
      "-177\n",
      "177\n"
     ]
    }
   ],
   "source": [
    "print(23 - 200) #without absolute value\n",
    "\n",
    "print(abs(23-200)) #with"
   ]
  },
  {
   "cell_type": "markdown",
   "metadata": {},
   "source": [
    "# `Rounding`\n",
    "The built-in Python function called round is also helpful. Use it to round up to the nearest integer if the decimal value is .5 or greater, or down if it's less than .5."
   ]
  },
  {
   "cell_type": "code",
   "execution_count": 39,
   "metadata": {},
   "outputs": [
    {
     "name": "stdout",
     "output_type": "stream",
     "text": [
      "16\n"
     ]
    }
   ],
   "source": [
    "print(round(15.5))"
   ]
  },
  {
   "cell_type": "markdown",
   "metadata": {},
   "source": [
    "# `Math library`\n",
    "\n",
    "Python has libraries to provide more advanced operations and calculations. One of the most common is the `math library`. \n",
    "\n",
    "math allows you to perform rounding with `floor` and `ceil`, provide the `value of pi`, and numerous other operations. \n",
    "\n",
    "Let's see how to use this library for rounding up or down.\n",
    "\n",
    "Rounding numbers enables you to remove the decimal portion of a float. \n",
    "\n",
    "You can choose to always `round up to the nearest whole number by using ceil`, or `down by using floor`."
   ]
  },
  {
   "cell_type": "code",
   "execution_count": 42,
   "metadata": {},
   "outputs": [
    {
     "name": "stdout",
     "output_type": "stream",
     "text": [
      "13\n",
      "12\n"
     ]
    }
   ],
   "source": [
    "from math import ceil, floor\n",
    "\n",
    "round_up = ceil(12.5) \n",
    "print(round_up)\n",
    "\n",
    "round_down = floor(12.5) \n",
    "print(round_down)"
   ]
  },
  {
   "cell_type": "markdown",
   "metadata": {},
   "source": [
    "# EXC 2\n",
    "## `Create an application to work with numbers and user input`\n",
    "\n",
    "You'll frequently need to convert string values into numbers to properly perform different operations, or determine the absolute value of a number. \n",
    "\n",
    "In this exercise, you will create a project to calculate the distance between two planets based on user input.\n",
    "\n",
    "This exercise is broken into a series of steps. \n",
    "For each step you will be presented with the goal for the step, followed by an empty cell. \n",
    "Enter your Python into the cell and run it. \n",
    "The solution for each step will follow each cell.\n",
    "\n",
    "Read the values from the user\n",
    "\n",
    "To create our application, we want to read the distance from the sun for two planets, and then display the distance between the planets. \n",
    "We'll do this by using `input` to read the values, `int to convert to integer`, and then `abs to convert the result into its absolute value`.\n",
    "\n",
    "Start by adding the code to prompt the user for the distance between the sun and the first planet, and then the second. \n",
    "\n",
    "Store each result in variables named `first_planet_input` and `second_planet_input`."
   ]
  },
  {
   "cell_type": "code",
   "execution_count": 52,
   "metadata": {},
   "outputs": [
    {
     "name": "stdout",
     "output_type": "stream",
     "text": [
      "108200000 227900000\n",
      "119700000\n"
     ]
    }
   ],
   "source": [
    "first_planet_input = int(input('1/: '))\n",
    "second_planet_input = int(input('2/: '))\n",
    "\n",
    "print (first_planet_input, second_planet_input)\n",
    "print (abs(first_planet_input - second_planet_input))"
   ]
  },
  {
   "cell_type": "markdown",
   "metadata": {},
   "source": [
    "# `Test your application`\n",
    "\n",
    "To test your project, run the notebook. You'll be prompted in a dialog to provide the distances. You can use the ones from the following table:\n",
    "\n",
    "| Planet  | Distance from sun |         \n",
    "| ------- | ----------------- |         \n",
    "| Mercury | 57900000          |\n",
    "| Venus   | 108200000         |\n",
    "| Earth   | 149600000         |\n",
    "| Mars    | 227900000         |\n",
    "| Jupiter | 778600000         |\n",
    "| Saturn  | 1433500000        |\n",
    "| Uranus  | 2872500000        |\n",
    "| Neptune | 4495100000        |"
   ]
  },
  {
   "cell_type": "markdown",
   "metadata": {},
   "source": [
    "# Summary\n",
    "## `Completed`\n",
    "100 XP\n",
    "\n",
    "1 minute\n",
    "\n",
    "You were tasked with creating an application that prompts the user for the distances from the sun for two planets, and then calculates the difference between the two distances. \n",
    "\n",
    "You used the arithmetic operators in Python, and functions such as abs and int to convert values.\n",
    "\n",
    "You learned:\n",
    "\n",
    "`The mathematic operators available in Python.`\n",
    "\n",
    "`The order of operations.`\n",
    "\n",
    "`How to convert strings to numbers.`"
   ]
  }
 ],
 "metadata": {
  "kernelspec": {
   "display_name": "Python 3.10.4 ('env': venv)",
   "language": "python",
   "name": "python3"
  },
  "language_info": {
   "codemirror_mode": {
    "name": "ipython",
    "version": 3
   },
   "file_extension": ".py",
   "mimetype": "text/x-python",
   "name": "python",
   "nbconvert_exporter": "python",
   "pygments_lexer": "ipython3",
   "version": "3.10.4"
  },
  "orig_nbformat": 4,
  "vscode": {
   "interpreter": {
    "hash": "1872149bdc4a65c263bf4d65a55bf0f6ee3f2abf08c4eafb5e5fc685078fa7e7"
   }
  }
 },
 "nbformat": 4,
 "nbformat_minor": 2
}
