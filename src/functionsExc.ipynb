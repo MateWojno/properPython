{
 "cells": [
  {
   "cell_type": "markdown",
   "metadata": {},
   "source": [
    "# Python functions"
   ]
  },
  {
   "cell_type": "markdown",
   "metadata": {},
   "source": [
    "## The next step after using procedural code is to write modular software by using functions. \n",
    "\n",
    "### Functions, from simple ones to multiple-argument ones, `are useful in making code reusable.`\n",
    "\n",
    "#### Learning objectives\n",
    "By the end of this module, you'll be able to:\n",
    "\n",
    "##### `Use functions with various types of return values.`\n",
    "\n",
    "##### `Implement formatting techniques.`\n",
    "\n",
    "When projects reuse code with functions, they become `more readable and maintainable.`\n",
    "\n",
    "Scenario: Organize data about a rocket\n",
    "\n",
    "Imagine you're creating a program to construct precise information about a space rocket. \n",
    "\n",
    "Reusable functions will allow you to not just compute information but also compose new values by mixing inputs and outputs from other functions.\n",
    "\n",
    "What will I learn?\n",
    "In this module, you'll learn to:\n",
    "\n",
    "##### Use default, required, and wildcard inputs.\n",
    "\n",
    "##### `Make code reusable` by extracting common patterns into separate functions.\n",
    "\n",
    "##### Return values, data structures, or computed results."
   ]
  },
  {
   "cell_type": "markdown",
   "metadata": {},
   "source": [
    "#### ------------------------------------------\n",
    "Functions are the next step after you've learned Python's programming basics. \n",
    "\n",
    "In its simplest form, a function contains code that always returns a value (or values). \n",
    "\n",
    "In some cases, a function also has optional or required inputs.\n",
    "\n",
    "## When you start writing code that duplicates other parts of the program, it becomes a perfect opportunity to `extract the code out into a function.` \n",
    "\n",
    "Although sharing common code through functions is useful, you can also limit the size of code by extracting parts out into smaller (and readable) functions.\n",
    "\n",
    "## `Programs that avoid duplication and prevent large functions by using smaller functions are more readable and maintainable. They're also easier to debug when things aren't working quite right.`\n",
    "\n",
    "Several rules about function inputs are critical for you to fully take advantage of everything that functions have to offer.\n",
    "\n",
    " # Important\n",
    "\n",
    "Although we're using the term input to describe what functions take in,\n",
    "\n",
    "`these elements are usually called arguments or parameters.` \n",
    "\n",
    "#### For consistency in this module, we'll refer to inputs as arguments.\n",
    "\n",
    "# Functions with no arguments\n",
    "# To create a function, you use the def keyword followed by a name, parentheses, and then the body with the function code:"
   ]
  },
  {
   "cell_type": "code",
   "execution_count": null,
   "metadata": {},
   "outputs": [],
   "source": [
    "# function in python is simillar to class in C# - IMO\n"
   ]
  },
  {
   "cell_type": "code",
   "execution_count": 18,
   "metadata": {},
   "outputs": [
    {
     "name": "stdout",
     "output_type": "stream",
     "text": [
      "payload, propellant, structure\n",
      "payload, propellant, structure\n"
     ]
    }
   ],
   "source": [
    "def rocket_parts():\n",
    "    print('payload, propellant, structure')\n",
    "\n",
    "# print (type(rocket_parts)) - <class 'function'>\n",
    "\n",
    "rocket_parts() # calls function\n",
    "\n",
    "#output = rocket_parts()\n"
   ]
  },
  {
   "cell_type": "code",
   "execution_count": 71,
   "metadata": {},
   "outputs": [],
   "source": [
    "#output = rocket_parts()\n",
    "#output is None # what means is none?? - means that function does not have any output/args\n",
    "# The rocket_parts() function doesn't take any arguments and prints a statement about gravity. If you need to use a value that a function is returning, you can assign the function output to a variable:\n"
   ]
  },
  {
   "cell_type": "markdown",
   "metadata": {},
   "source": [
    "# It might seem surprising that the value for the output variable is None. \n",
    "\n",
    "This is because the rocket_parts() function didn't `explicitly return a value.` \n",
    "\n",
    "In Python, if a function doesn't explicitly return a value, `it implicitly returns None.` \n",
    "\n",
    "Updating the function to return the string instead of printing it causes the output variable to have a different value:"
   ]
  },
  {
   "cell_type": "code",
   "execution_count": 23,
   "metadata": {},
   "outputs": [
    {
     "data": {
      "text/plain": [
       "'payload, propellant, structure'"
      ]
     },
     "execution_count": 23,
     "metadata": {},
     "output_type": "execute_result"
    }
   ],
   "source": [
    "def rocket_parts():\n",
    "    return 'payload, propellant, structure'\n",
    "\n",
    "output = rocket_parts()\n",
    "output \n",
    "\n",
    "# If you need to use the value of a function, that function must return explicitly. Otherwise, None will be returned.\n"
   ]
  },
  {
   "cell_type": "markdown",
   "metadata": {},
   "source": [
    "# `Note`\n",
    "\n",
    "### You don't need to always assign the return of a function. \n",
    "### In most cases where a function doesn't return a value (or values) `explicitly`, it means that you don't need to assign or use the implicit None that's returned.\n",
    "\n",
    "\n",
    "# `Required and optional arguments`\n",
    "\n",
    "In Python, several built-in functions `require arguments.` \n",
    "\n",
    "`Some built-in functions make arguments optional.`\n",
    "\n",
    "Built-in functions are immediately available, so `you don't need to import them explicitly.`\n",
    "\n",
    "An example of a built-in function that requires an argument is \n",
    "\n",
    "# `any().` \n",
    "\n",
    "This function takes an iterable (for example, a list) and returns True if any item in the iterable is True. \n",
    "\n",
    "Otherwise, it returns False."
   ]
  },
  {
   "cell_type": "code",
   "execution_count": 27,
   "metadata": {},
   "outputs": [
    {
     "data": {
      "text/plain": [
       "True"
      ]
     },
     "execution_count": 27,
     "metadata": {},
     "output_type": "execute_result"
    }
   ],
   "source": [
    "any ([False,False, 1>0]) #turns true if any item is true"
   ]
  },
  {
   "cell_type": "code",
   "execution_count": 29,
   "metadata": {},
   "outputs": [
    {
     "ename": "TypeError",
     "evalue": "any() takes exactly one argument (0 given)",
     "output_type": "error",
     "traceback": [
      "\u001b[1;31m---------------------------------------------------------------------------\u001b[0m",
      "\u001b[1;31mTypeError\u001b[0m                                 Traceback (most recent call last)",
      "\u001b[1;32mc:\\Users\\MKW-lip-2021\\Desktop\\Python0001-Learning\\src\\functionsExc.ipynb Cell 11\u001b[0m in \u001b[0;36m<cell line: 1>\u001b[1;34m()\u001b[0m\n\u001b[1;32m----> <a href='vscode-notebook-cell:/c%3A/Users/MKW-lip-2021/Desktop/Python0001-Learning/src/functionsExc.ipynb#X13sZmlsZQ%3D%3D?line=0'>1</a>\u001b[0m \u001b[39many\u001b[39;49m()\n",
      "\u001b[1;31mTypeError\u001b[0m: any() takes exactly one argument (0 given)"
     ]
    }
   ],
   "source": [
    "any() # good TypeError exception"
   ]
  },
  {
   "cell_type": "markdown",
   "metadata": {},
   "source": [
    "You can verify that some functions allow the use of optional arguments by using another built-in function called \n",
    "### str(). \n",
    "\n",
    "This function creates a string from an argument. If no argument is passed in, it returns an empty string:"
   ]
  },
  {
   "cell_type": "code",
   "execution_count": 41,
   "metadata": {},
   "outputs": [
    {
     "data": {
      "text/plain": [
       "''"
      ]
     },
     "execution_count": 41,
     "metadata": {},
     "output_type": "execute_result"
    }
   ],
   "source": [
    "str()\n",
    "\n"
   ]
  },
  {
   "cell_type": "code",
   "execution_count": 42,
   "metadata": {},
   "outputs": [
    {
     "data": {
      "text/plain": [
       "'15'"
      ]
     },
     "execution_count": 42,
     "metadata": {},
     "output_type": "execute_result"
    }
   ],
   "source": [
    "str(15)"
   ]
  },
  {
   "cell_type": "code",
   "execution_count": 43,
   "metadata": {},
   "outputs": [
    {
     "data": {
      "text/plain": [
       "'lalala'"
      ]
     },
     "execution_count": 43,
     "metadata": {},
     "output_type": "execute_result"
    }
   ],
   "source": [
    "str('lalala')"
   ]
  },
  {
   "cell_type": "markdown",
   "metadata": {},
   "source": [
    "# Requiring an argument\n",
    "\n",
    "If you're piloting a rocket ship, a function without required inputs is like a computer with a button to tell you the time. \n",
    "\n",
    "If you press the button, a computerized voice will tell you the time. \n",
    "\n",
    "But a required input can be a destination to calculate travel distance. \n",
    "\n",
    "`Required inputs are called arguments to the function.`\n",
    "\n",
    "To require an argument, put it within the parentheses:"
   ]
  },
  {
   "cell_type": "code",
   "execution_count": 49,
   "metadata": {},
   "outputs": [
    {
     "data": {
      "text/plain": [
       "'238,855'"
      ]
     },
     "execution_count": 49,
     "metadata": {},
     "output_type": "execute_result"
    }
   ],
   "source": [
    "def distance_from_earth(destination):\n",
    "    if destination == 'Moon':\n",
    "        return '238,855'\n",
    "    else:\n",
    "        return 'Unable to compute that destination'\n",
    "\n",
    "distance_from_earth('Moon')"
   ]
  },
  {
   "cell_type": "code",
   "execution_count": 50,
   "metadata": {},
   "outputs": [
    {
     "data": {
      "text/plain": [
       "'Unable to compute that destination'"
      ]
     },
     "execution_count": 50,
     "metadata": {},
     "output_type": "execute_result"
    }
   ],
   "source": [
    "\n",
    "distance_from_earth('Earth')"
   ]
  },
  {
   "cell_type": "markdown",
   "metadata": {},
   "source": [
    "# Multiple required arguments\n",
    "\n",
    "To use multiple arguments, \n",
    "#### `you must separate them by using a comma. ','`  \n",
    "\n",
    "Let's create a function that can calculate how many days it will take to reach a destination, given `distance` and a constant `speed`:"
   ]
  },
  {
   "cell_type": "code",
   "execution_count": 52,
   "metadata": {},
   "outputs": [],
   "source": [
    "def days_to_complete(distance,speed):\n",
    "    hours = distance/speed\n",
    "    return hours/24"
   ]
  },
  {
   "cell_type": "code",
   "execution_count": 53,
   "metadata": {},
   "outputs": [
    {
     "data": {
      "text/plain": [
       "132.69722222222222"
      ]
     },
     "execution_count": 53,
     "metadata": {},
     "output_type": "execute_result"
    }
   ],
   "source": [
    "# Now use the distance from Earth to the Moon to calculate how many days it would take to get to the Moon at a common highway speed limit of 75 miles per hour:\n",
    "\n",
    "days_to_complete(238855, 75)"
   ]
  },
  {
   "cell_type": "markdown",
   "metadata": {},
   "source": [
    "# Functions as arguments\n",
    "\n",
    "You can use the value of the days_to_complete() function and assign it to a variable, and then pass it to round() (a built-in function that rounds to the closest whole number) to get a whole number:"
   ]
  },
  {
   "cell_type": "code",
   "execution_count": 54,
   "metadata": {},
   "outputs": [
    {
     "data": {
      "text/plain": [
       "133"
      ]
     },
     "execution_count": 54,
     "metadata": {},
     "output_type": "execute_result"
    }
   ],
   "source": [
    "total_days = days_to_complete(238855, 75)\n",
    "round(total_days)"
   ]
  },
  {
   "cell_type": "markdown",
   "metadata": {},
   "source": [
    "# However, a useful pattern is to pass functions to other functions instead of assigning the returned value:"
   ]
  },
  {
   "cell_type": "code",
   "execution_count": 55,
   "metadata": {},
   "outputs": [
    {
     "data": {
      "text/plain": [
       "133"
      ]
     },
     "execution_count": 55,
     "metadata": {},
     "output_type": "execute_result"
    }
   ],
   "source": [
    "round(days_to_complete(238855,75)) #better, less vars, more clarity"
   ]
  },
  {
   "cell_type": "markdown",
   "metadata": {},
   "source": [
    "# EXC 1\n",
    "\n",
    "Exercise: Work with arguments in functions\n",
    "\n",
    "Required arguments in functions are used when functions need those arguments to work properly. \n",
    "\n",
    "In this exercise, `you'll construct a fuel report` that requires information from several fuel locations throughout the rocket ship.\n",
    "\n",
    "### Create a report generation function\n",
    "\n",
    "Your spaceship has `three tanks`: \n",
    "\n",
    "### Main, \n",
    "\n",
    "### External and \n",
    "\n",
    "### Hydrogen. \n",
    "\n",
    "You want to create an app to `display the amount of fuel in each tank`, and the `average amount of fuel between the three tanks.`\n",
    "\n",
    "Because you wish to reuse this code in other projects, you want to create a function with the logic.\n",
    "\n",
    "### Create a function named `generate_report.` \n",
    "\n",
    "The function will take `three parameters` named `main_tank,` `external_tank` and `hydrogen_tank.` \n",
    "\n",
    "When run, the function will display output which resembles the following:\n",
    "\n",
    "|Fuel report:|\n",
    "|------------|\n",
    "|Main tank: ##|\n",
    "|External tank: ##|\n",
    "|Hydrogen tank: ##|"
   ]
  },
  {
   "cell_type": "code",
   "execution_count": 6,
   "metadata": {},
   "outputs": [
    {
     "name": "stdout",
     "output_type": "stream",
     "text": [
      "Kernel crashed\n"
     ]
    }
   ],
   "source": [
    "print('Kernel crashed')\n",
    "\n",
    "def generate_report(main_tank, external_tank, hydrogen_tank):\n",
    "    output = f\"\"\"Fuel Report:\n",
    "    Main tank: {main_tank},\n",
    "    External tank: {external_tank},\n",
    "    Hydrogen tank: {hydrogen_tank}\n",
    "    \"\"\"\n",
    "\n",
    "generate_report(80,70,75)    \n"
   ]
  },
  {
   "cell_type": "markdown",
   "metadata": {},
   "source": [
    "# Use keyword arguments in Python\n",
    "C\n",
    "Optional arguments require a default value assigned to them. \n",
    "\n",
    "These named arguments are called keyword arguments. \n",
    "\n",
    "Keyword argument values must be defined in the functions themselves. \n",
    "\n",
    "`When you're calling a function that's defined with keyword arguments, it isn't necessary to use them at all.`\n",
    "\n",
    "The Apollo 11 mission took about 51 hours to get to the Moon. \n",
    "\n",
    "Let's create a function that `returns` the estimated time of arrival by using the same value as the Apollo 11 mission as the default:"
   ]
  },
  {
   "cell_type": "code",
   "execution_count": 7,
   "metadata": {},
   "outputs": [],
   "source": [
    "from datetime import timedelta, datetime\n",
    "\n",
    "def arrival_time(hours=51):\n",
    "    now = datetime.now()\n",
    "    arrival = now + timedelta(hours=hours)\n",
    "    return arrival.strftime(\"Arrival: %A %H:%M\")"
   ]
  },
  {
   "cell_type": "markdown",
   "metadata": {},
   "source": [
    "# The function uses the datetime module to define the current time. \n",
    "\n",
    "It uses timedelta to allow the addition operation that results in a new time object. \n",
    "\n",
    "After computing that result, it returns the arrival estimation formatted as a string. Try calling it without any arguments:\n",
    "\n"
   ]
  },
  {
   "cell_type": "code",
   "execution_count": 10,
   "metadata": {},
   "outputs": [
    {
     "data": {
      "text/plain": [
       "'Arrival: Sunday 18:33'"
      ]
     },
     "execution_count": 10,
     "metadata": {},
     "output_type": "execute_result"
    }
   ],
   "source": [
    "# arrival_time()\n",
    "\n",
    "# Even though the function defines a keyword argument, it allows not passing one when you're calling a function. \n",
    "# In this case, the hours variable defaults to 51. To verify that the current date is correct, use 0 as the value for hours:\n",
    "\n",
    "arrival_time(0)"
   ]
  },
  {
   "cell_type": "markdown",
   "metadata": {},
   "source": [
    "# Mixing arguments and keyword arguments\n",
    "\n",
    "Sometimes, a function needs a combination of arguments and keyword arguments. \n",
    "\n",
    "In Python, this combination follows a specific order. \n",
    "\n",
    "### `Arguments are always declared first, followed by keyword arguments.`\n",
    "\n",
    "Update the `arrival_time()` function to take a required argument, which is the name of the destination:"
   ]
  },
  {
   "cell_type": "code",
   "execution_count": 14,
   "metadata": {},
   "outputs": [],
   "source": [
    "from datetime import timedelta, datetime\n",
    "\n",
    "def arrival_time(destination, hours=51):\n",
    "    now = datetime.now()\n",
    "    arrival = now + timedelta(hours=hours)\n",
    "    return arrival.strftime(f\"{destination} Arrival: %A %H:%M\")\n",
    "\n",
    "    #Because you added a required argument, it's no longer possible to call the function without any arguments:"
   ]
  },
  {
   "cell_type": "code",
   "execution_count": 16,
   "metadata": {},
   "outputs": [
    {
     "ename": "TypeError",
     "evalue": "arrival_time() missing 1 required positional argument: 'destination'",
     "output_type": "error",
     "traceback": [
      "\u001b[1;31m---------------------------------------------------------------------------\u001b[0m",
      "\u001b[1;31mTypeError\u001b[0m                                 Traceback (most recent call last)",
      "\u001b[1;32mc:\\Users\\MKW-lip-2021\\Desktop\\Python0001-Learning\\src\\functionsExc.ipynb Cell 34\u001b[0m in \u001b[0;36m<cell line: 1>\u001b[1;34m()\u001b[0m\n\u001b[1;32m----> <a href='vscode-notebook-cell:/c%3A/Users/MKW-lip-2021/Desktop/Python0001-Learning/src/functionsExc.ipynb#X45sZmlsZQ%3D%3D?line=0'>1</a>\u001b[0m arrival_time()\n",
      "\u001b[1;31mTypeError\u001b[0m: arrival_time() missing 1 required positional argument: 'destination'"
     ]
    }
   ],
   "source": [
    "arrival_time()"
   ]
  },
  {
   "cell_type": "code",
   "execution_count": 18,
   "metadata": {},
   "outputs": [
    {
     "data": {
      "text/plain": [
       "'Moon Arrival: Tuesday 21:36'"
      ]
     },
     "execution_count": 18,
     "metadata": {},
     "output_type": "execute_result"
    }
   ],
   "source": [
    "arrival_time('Moon')"
   ]
  },
  {
   "cell_type": "code",
   "execution_count": 23,
   "metadata": {},
   "outputs": [
    {
     "data": {
      "text/plain": [
       "'Orbit Arrival: Sunday 19:26'"
      ]
     },
     "execution_count": 23,
     "metadata": {},
     "output_type": "execute_result"
    }
   ],
   "source": [
    "# You can also pass more than two values, but you need to separate them with a comma. It takes about 8 minutes (0.13 hours) to get to orbit, so use that as an argument:\n",
    "\n",
    "arrival_time('Orbit', 0.13)"
   ]
  },
  {
   "cell_type": "markdown",
   "metadata": {},
   "source": [
    "# Use variable arguments in Python\n",
    "\n",
    "In Python, you can use any number of arguments and keyword arguments `without declaring each one of them.` \n",
    "\n",
    "#### This ability is useful when a function might get an unknown number of inputs.\n",
    "\n",
    "Variable arguments\n",
    "\n",
    "Arguments in functions are required. \n",
    "\n",
    "But when you're using variable arguments, the function allows any number of arguments (including 0) to be passed in. \n",
    "\n",
    "## The syntax for using variable arguments is `prefixing a single asterisk (*) before the argument's name.`\n",
    "\n",
    "The following function prints the received arguments:"
   ]
  },
  {
   "cell_type": "code",
   "execution_count": 26,
   "metadata": {},
   "outputs": [],
   "source": [
    "def variable_length(*args):\n",
    "    print(args)\n",
    "\n",
    "# It isn't required to call variable arguments args. \n",
    "# You can use any valid variable name. \n",
    "# Although it's common to see *args or *a, you should try to use the same convention throughout a project."
   ]
  },
  {
   "cell_type": "markdown",
   "metadata": {},
   "source": [
    "In this case, *args is instructing the function to accept any number of arguments (including 0). \n",
    "\n",
    "Within the function, args is now available as the variable that holds all arguments as a \n",
    "# `tuple.` - pl krotka\n",
    "\n",
    "Try out the function by passing any number or type of arguments:"
   ]
  },
  {
   "cell_type": "code",
   "execution_count": 28,
   "metadata": {},
   "outputs": [
    {
     "name": "stdout",
     "output_type": "stream",
     "text": [
      "()\n",
      "('one', 'two')\n"
     ]
    }
   ],
   "source": [
    "variable_length()\n",
    "variable_length('one','two')"
   ]
  },
  {
   "cell_type": "code",
   "execution_count": 30,
   "metadata": {},
   "outputs": [
    {
     "name": "stdout",
     "output_type": "stream",
     "text": [
      "(None,)\n"
     ]
    }
   ],
   "source": [
    "variable_length(None)"
   ]
  },
  {
   "cell_type": "code",
   "execution_count": 32,
   "metadata": {},
   "outputs": [],
   "source": [
    "def sequence_time(*args):\n",
    "    total_minutes = sum(args)\n",
    "    if total_minutes < 60:\n",
    "        return f\"Total time to launch is {total_minutes} minutes\"\n",
    "    else:\n",
    "        return f\"Total time to launch is {total_minutes/60} hours\""
   ]
  },
  {
   "cell_type": "code",
   "execution_count": 34,
   "metadata": {},
   "outputs": [
    {
     "data": {
      "text/plain": [
       "'Total time to launch is 36 minutes'"
      ]
     },
     "execution_count": 34,
     "metadata": {},
     "output_type": "execute_result"
    }
   ],
   "source": [
    "sequence_time(4,14,18)"
   ]
  },
  {
   "cell_type": "code",
   "execution_count": 35,
   "metadata": {},
   "outputs": [
    {
     "data": {
      "text/plain": [
       "'Total time to launch is 1.1 hours'"
      ]
     },
     "execution_count": 35,
     "metadata": {},
     "output_type": "execute_result"
    }
   ],
   "source": [
    "sequence_time(4,14,48)"
   ]
  },
  {
   "cell_type": "markdown",
   "metadata": {},
   "source": [
    "# Variable keyword arguments\n",
    "For a function to accept any number of keyword arguments, you use a similar syntax. \n",
    "\n",
    "### In this case, `a double asterisk (**) is required:`"
   ]
  },
  {
   "cell_type": "code",
   "execution_count": 37,
   "metadata": {},
   "outputs": [],
   "source": [
    "def variable_length(**kwargs):\n",
    "    print(kwargs)\n",
    "#Try the example function, which prints the names and values passed in as kwargs:"
   ]
  },
  {
   "cell_type": "code",
   "execution_count": 38,
   "metadata": {},
   "outputs": [
    {
     "name": "stdout",
     "output_type": "stream",
     "text": [
      "{'tanks': 1, 'day': 'Wednesday', 'pilots': 3}\n"
     ]
    }
   ],
   "source": [
    "variable_length(tanks=1, day='Wednesday', pilots=3)"
   ]
  },
  {
   "cell_type": "markdown",
   "metadata": {},
   "source": [
    "# If you're already familiar with Python dictionaries, you'll notice that variable-length keyword arguments are assigned as a dictionary. \n",
    "\n",
    "## To interact with the variables and values, use the same operations as a dictionary.\n",
    "\n",
    "### Note\n",
    "\n",
    "As with variable arguments, you're not required to use kwargs when you're using variable keyword arguments. \n",
    "\n",
    "You can use any valid variable name. \n",
    "\n",
    "`Although it's common to see **kwargs or **kw,` you should try to use the same convention throughout a project.\n",
    "\n",
    "In this function, let's use variable keyword arguments to report the astronauts assigned to the mission. \n",
    "\n",
    "Because this function allows any number of keyword arguments, it can be reused regardless of the number of astronauts assigned:"
   ]
  },
  {
   "cell_type": "code",
   "execution_count": 45,
   "metadata": {},
   "outputs": [],
   "source": [
    "def crew_members(**kwargs):\n",
    "    print(f\"{len(kwargs)} astronauts assigned for this mission:\")\n",
    "    for title, name in kwargs.items():\n",
    "        print(f'{title}: {name}')"
   ]
  },
  {
   "cell_type": "code",
   "execution_count": 47,
   "metadata": {},
   "outputs": [
    {
     "name": "stdout",
     "output_type": "stream",
     "text": [
      "3 astronauts assigned for this mission:\n",
      "captain: Neil Armstrong\n",
      "pilot: Buzz Aldrin\n",
      "command_pilot: Michael Collins\n"
     ]
    }
   ],
   "source": [
    "# try this out\n",
    "crew_members(captain=\"Neil Armstrong\", pilot = \"Buzz Aldrin\", command_pilot=\"Michael Collins\")\n"
   ]
  },
  {
   "cell_type": "code",
   "execution_count": 50,
   "metadata": {},
   "outputs": [
    {
     "ename": "SyntaxError",
     "evalue": "keyword argument repeated: pilot (3831437205.py, line 1)",
     "output_type": "error",
     "traceback": [
      "\u001b[1;36m  Input \u001b[1;32mIn [50]\u001b[1;36m\u001b[0m\n\u001b[1;33m    crew_members(captain=\"MateWojno\", pilot = \"KT\", main_hater = \"Tokarski\", pilot = 'tt')\u001b[0m\n\u001b[1;37m                                                                             ^\u001b[0m\n\u001b[1;31mSyntaxError\u001b[0m\u001b[1;31m:\u001b[0m keyword argument repeated: pilot\n"
     ]
    }
   ],
   "source": [
    "crew_members(captain=\"MateWojno\", pilot = \"KT\", main_hater = \"Tokarski\", pilot = 'tt')"
   ]
  },
  {
   "cell_type": "code",
   "execution_count": 51,
   "metadata": {},
   "outputs": [
    {
     "name": "stdout",
     "output_type": "stream",
     "text": [
      "3 astronauts assigned for this mission:\n",
      "captain: MateWojno\n",
      "pilot: KT\n",
      "main_hater: Tokarski\n"
     ]
    }
   ],
   "source": [
    "crew_members(captain=\"MateWojno\", pilot = \"KT\", main_hater = \"Tokarski\")"
   ]
  },
  {
   "cell_type": "markdown",
   "metadata": {},
   "source": [
    "# EXC 2\n",
    "\n",
    "## Exercise: Work with keyword arguments in functions\n",
    "\n",
    "In the prior exercise you created a report for a ship with three fuel tanks. \n",
    "\n",
    "What happens if the ship has multiple tanks? \n",
    "\n",
    "Keyword arguments can be a perfect solution for this type of a situation. \n",
    "\n",
    "With keyword arguments a caller can provide multiple values which your code can interact with.\n",
    "\n",
    "## Create an updated `fuel report` function\n",
    "\n",
    "### Create a new function named `fuel_report.` \n",
    "\n",
    "The function will accept a keyword arguments parameter named `fuel_tanks.` \n",
    "\n",
    "Add the code to loop through the entries provided to generate the following output, where name is the name of the keyword argument and value is the value:"
   ]
  },
  {
   "cell_type": "code",
   "execution_count": 60,
   "metadata": {},
   "outputs": [],
   "source": [
    "def fuel_report(**fuel_tanks):\n",
    "    for name, value in fuel_tanks.items():\n",
    "        print(f\"\"\"Look at the tank:\n",
    "        -------------------------------\n",
    "        {name}: {value}\"\"\")"
   ]
  },
  {
   "cell_type": "code",
   "execution_count": 61,
   "metadata": {},
   "outputs": [
    {
     "name": "stdout",
     "output_type": "stream",
     "text": [
      "Look at the tank:\n",
      "        -------------------------------\n",
      "        main: 50\n",
      "Look at the tank:\n",
      "        -------------------------------\n",
      "        external: 100\n",
      "Look at the tank:\n",
      "        -------------------------------\n",
      "        emergency: 60\n"
     ]
    }
   ],
   "source": [
    "fuel_report(main=50, external=100, emergency=60)"
   ]
  },
  {
   "cell_type": "markdown",
   "metadata": {},
   "source": [
    "# Summary\n",
    "\n",
    "You now know essentials like these about functions:\n",
    "\n",
    "### Functions can require arguments or make them optional.\n",
    "\n",
    "### You can extract reusable code and reuse it in a function.\n",
    "\n",
    "### Variable arguments and variable keyword arguments are useful when you don't know the exact inputs.\n",
    "\n",
    "With these techniques and the knowledge of functions, you should feel more comfortable tackling bigger problems when you're writing Python code."
   ]
  }
 ],
 "metadata": {
  "kernelspec": {
   "display_name": "Python 3.10.4 ('env': venv)",
   "language": "python",
   "name": "python3"
  },
  "language_info": {
   "codemirror_mode": {
    "name": "ipython",
    "version": 3
   },
   "file_extension": ".py",
   "mimetype": "text/x-python",
   "name": "python",
   "nbconvert_exporter": "python",
   "pygments_lexer": "ipython3",
   "version": "3.10.4"
  },
  "orig_nbformat": 4,
  "vscode": {
   "interpreter": {
    "hash": "1872149bdc4a65c263bf4d65a55bf0f6ee3f2abf08c4eafb5e5fc685078fa7e7"
   }
  }
 },
 "nbformat": 4,
 "nbformat_minor": 2
}
