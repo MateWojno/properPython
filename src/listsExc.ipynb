{
 "cells": [
  {
   "cell_type": "markdown",
   "metadata": {},
   "source": [
    "# `Introduction to lists in Python`"
   ]
  },
  {
   "cell_type": "markdown",
   "metadata": {},
   "source": [
    "# By the end of this module, you'll be able to:\n",
    "\n",
    "#### `Identify when to use a list.`\n",
    "\n",
    "#### `Create a list with string values and numeric values.`\n",
    "\n",
    "#### `Access a particular item in a list by using indexes.`\n",
    "\n",
    "#### `Push items to the end of a list.`\n",
    "\n",
    "#### `Sort and slice a list.`"
   ]
  },
  {
   "cell_type": "markdown",
   "metadata": {},
   "source": [
    "`Create a list`\n",
    "\n",
    "You create a list by assigning a sequence of values to a variable. \n",
    "Each value is separated by a comma `(\",\")` and surrounded by brackets `([])`. The following example stores the list of all planets in the planets variable:"
   ]
  },
  {
   "cell_type": "code",
   "execution_count": 1,
   "metadata": {},
   "outputs": [],
   "source": [
    "planets = ['Mercury','Venus','Earth','Mars','Jupiter','Saturn','Uranus','Neptune']"
   ]
  },
  {
   "cell_type": "markdown",
   "metadata": {},
   "source": [
    "# Access list items by index\n",
    "\n",
    "You can access any item in a list by putting the index in brackets [] after the list variable's name.\n",
    "\n",
    "`Indexes start from 0`, so in the following code, planets[0] is the first item in the list planets:"
   ]
  },
  {
   "cell_type": "code",
   "execution_count": 8,
   "metadata": {},
   "outputs": [
    {
     "name": "stdout",
     "output_type": "stream",
     "text": [
      "The first planet is: Mercury\n",
      "Venus Earth Mars\n"
     ]
    }
   ],
   "source": [
    "print('The first planet is:', planets[0])\n",
    "print(planets[1], planets[2],planets[3])"
   ]
  },
  {
   "cell_type": "markdown",
   "metadata": {},
   "source": [
    "You can also `modify values` in a list by using an index. \n",
    "\n",
    "You do so by `assigning a new value`, in much the same way that you would assign a variable value. \n",
    "\n",
    "For example, you could change the name of Mars in the list to use its nickname:"
   ]
  },
  {
   "cell_type": "code",
   "execution_count": 9,
   "metadata": {},
   "outputs": [
    {
     "name": "stdout",
     "output_type": "stream",
     "text": [
      "Mars i also known as Red Planet\n"
     ]
    }
   ],
   "source": [
    "planets[3]='Red Planet'\n",
    "print('Mars i also known as', planets[3])"
   ]
  },
  {
   "cell_type": "markdown",
   "metadata": {},
   "source": [
    "# Determine the length of a list\n",
    "\n",
    "To get the length of a list, use the built-in `function len()`. The following code creates a new variable, number_of_planets. The code assigns that variable with the number of items in the list planets (8).\n",
    "\n"
   ]
  },
  {
   "cell_type": "code",
   "execution_count": 10,
   "metadata": {},
   "outputs": [
    {
     "name": "stdout",
     "output_type": "stream",
     "text": [
      "There are 8 planets in the solar system.\n"
     ]
    }
   ],
   "source": [
    "number_of_planets = len(planets)\n",
    "print('There are', number_of_planets, 'planets in the solar system.')"
   ]
  },
  {
   "cell_type": "markdown",
   "metadata": {},
   "source": [
    "# Add values to lists\n",
    "\n",
    "Lists in Python are `dynamic`: \n",
    "\n",
    "you can `add` and `remove` items after they're created. \n",
    "\n",
    "#### `To add an item to a list, use the method .append(value).`\n",
    "\n",
    "For example, the following code adds the string \"Pluto\" to the end of the list planets:"
   ]
  },
  {
   "cell_type": "code",
   "execution_count": 21,
   "metadata": {},
   "outputs": [
    {
     "name": "stdout",
     "output_type": "stream",
     "text": [
      "There are actually 19  planets in the solar system.\n"
     ]
    }
   ],
   "source": [
    "planets.append('Pluto')\n",
    "number_of_planets = len(planets)\n",
    "print('There are actually',number_of_planets, ' planets in the solar system.')"
   ]
  },
  {
   "cell_type": "markdown",
   "metadata": {},
   "source": [
    "# `Remove values from lists`\n",
    "You can remove the last item in a list by calling the `.pop() method` on the list variable:"
   ]
  },
  {
   "cell_type": "code",
   "execution_count": 33,
   "metadata": {},
   "outputs": [
    {
     "name": "stdout",
     "output_type": "stream",
     "text": [
      "No, there are definitely 8 planets in the solar system.\n"
     ]
    }
   ],
   "source": [
    "planets.pop() #Goodbye, Pluto\n",
    "number_of_planets = len(planets)\n",
    "print('No, there are definitely',number_of_planets,'planets in the solar system.')"
   ]
  },
  {
   "cell_type": "markdown",
   "metadata": {},
   "source": [
    "# Use negative indexes\n",
    "\n",
    "You saw how to use indexes to fetch an individual item in a list:\n",
    "\n",
    "`Indexes start at zero and increase.` \n",
    "\n",
    "`Negative indexes` start at the end of the list `and work backward`.\n",
    "\n",
    "In the following example, an index of -1 returns the last item in a list. An index of -2 returns the second to last."
   ]
  },
  {
   "cell_type": "code",
   "execution_count": 35,
   "metadata": {},
   "outputs": [
    {
     "name": "stdout",
     "output_type": "stream",
     "text": [
      "The last planet is Neptune\n"
     ]
    }
   ],
   "source": [
    "print('The last planet is', planets[-1])"
   ]
  },
  {
   "cell_type": "code",
   "execution_count": 38,
   "metadata": {},
   "outputs": [
    {
     "name": "stdout",
     "output_type": "stream",
     "text": [
      "The penultimate planet is Uranus\n"
     ]
    }
   ],
   "source": [
    "print('The penultimate planet is', planets[-2])"
   ]
  },
  {
   "cell_type": "markdown",
   "metadata": {},
   "source": [
    "# Find a value in a list\n",
    "\n",
    "To determine where in a list a value is stored, you use the `list's index method`. \n",
    "\n",
    "This method searches for the value and `returns the index` of that item in the list. \n",
    "\n",
    "#### `If it doesn't find a match, it returns -1.`\n",
    "\n",
    "The following example shows the use of \"Jupiter\" as the index value:"
   ]
  },
  {
   "cell_type": "code",
   "execution_count": 39,
   "metadata": {},
   "outputs": [
    {
     "name": "stdout",
     "output_type": "stream",
     "text": [
      "Jupiter is the 5 th planet for the sun\n"
     ]
    }
   ],
   "source": [
    "jupiter_index = planets.index('Jupiter')\n",
    "print('Jupiter is the', jupiter_index+1, 'th planet for the sun')"
   ]
  },
  {
   "cell_type": "markdown",
   "metadata": {},
   "source": [
    "# Store numbers in lists\n",
    "\n",
    "To store numbers with decimal places in Python, you use the `float type`. To create a float, you enter the number with the decimal place and assign it to a variable:"
   ]
  },
  {
   "cell_type": "code",
   "execution_count": 42,
   "metadata": {},
   "outputs": [
    {
     "name": "stdout",
     "output_type": "stream",
     "text": [
      "On Earth a double-decker bus weighs 12650 kg.\n",
      "On Mercury a double-decker bus weighs 4781.7 kg\n"
     ]
    }
   ],
   "source": [
    "gravity_on_earth = 1.0\n",
    "gravity_on_the_moon = 0.166\n",
    "\n",
    "gravity_on_planets = [0.378, 0.907, 1, 0.377, 2.36, 0.916, 0.889, 1.12]\n",
    "\n",
    "bus_weight = 12650 # in kg on Earth\n",
    "print ('On Earth a double-decker bus weighs', bus_weight, 'kg.')\n",
    "print('On Mercury a double-decker bus weighs', bus_weight * gravity_on_planets[0], 'kg')"
   ]
  },
  {
   "cell_type": "markdown",
   "metadata": {},
   "source": [
    "# `Use min() and max() with lists`\n",
    "\n",
    "Python has built-in functions for calculating the biggest and smallest numbers in a list. \n",
    "\n",
    "The `max() function returns the largest number`, \n",
    "\n",
    "and `min() returns the smallest`. \n",
    "\n",
    "So min(gravity_on_planets) returns the smallest number in the gravity_on_planets list, which is 0.377 (Mars).\n",
    "\n",
    "The following code calculates the minimum and maximum weights in the solar system by using those functions:"
   ]
  },
  {
   "cell_type": "code",
   "execution_count": 43,
   "metadata": {},
   "outputs": [
    {
     "name": "stdout",
     "output_type": "stream",
     "text": [
      "On Earth a double-decker bus weighs 12650 kg.\n",
      "On Mercury a double-decker bus weighs 4781.7 kg\n",
      "The lightest a bus would be in the solar system is 4769.05 kg\n",
      "The heaviest a bus would be in solar system is 29854.0 kg\n"
     ]
    }
   ],
   "source": [
    "bus_weight = 12650 # in kg on Earth\n",
    "print ('On Earth a double-decker bus weighs', bus_weight, 'kg.')\n",
    "print('On Mercury a double-decker bus weighs', bus_weight * gravity_on_planets[0], 'kg')\n",
    "print('The lightest a bus would be in the solar system is', bus_weight * min(gravity_on_planets), 'kg')\n",
    "print('The heaviest a bus would be in solar system is', bus_weight *max(gravity_on_planets), 'kg')"
   ]
  },
  {
   "cell_type": "markdown",
   "metadata": {},
   "source": [
    "# Manipulate list data\n",
    "\n",
    "You might need to work with different portions of a list. \n",
    "\n",
    "For example, assume that you have a list with rainfall amounts for various months. \n",
    "\n",
    "To properly analyze this type of data, you might need to look for rainfall in autumn or in a three-month period. \n",
    "\n",
    "Or you might want to sort the list in order of most rainfall to least.\n",
    "\n",
    "`Python provides robust support for working with the data in lists`. This support includes `slicing data (examining just a portion)` and `sorting`."
   ]
  },
  {
   "cell_type": "markdown",
   "metadata": {},
   "source": [
    "# `Slice lists`\n",
    "\n",
    "You can retrieve a portion of a list by using a slice. \n",
    "\n",
    "A slice uses brackets, but instead of a single item, it has the starting and ending indexes. When you use a slice, you create a new list that `starts at the starting index` and that `ends before` (and does not include) `the ending index`.\n",
    "\n",
    "The list of planets has eight items. \n",
    "\n",
    "Earth is the third in the list. \n",
    "\n",
    "To get the planets before Earth, use a slice to get items starting at 0 and ending at 2:"
   ]
  },
  {
   "cell_type": "code",
   "execution_count": 50,
   "metadata": {},
   "outputs": [
    {
     "name": "stdout",
     "output_type": "stream",
     "text": [
      "['Mercury', 'Venus']\n",
      "['Red Planet', 'Jupiter', 'Saturn', 'Uranus', 'Neptune']\n"
     ]
    }
   ],
   "source": [
    "planets_before_earth = planets[0:2] # Earth index is 2, but slice wouldn't include this\n",
    "print(planets_before_earth)\n",
    "\n",
    "planets_after_earth = planets[3:8] # Neptune is the last, and has index of 7 not 8, so it is included\n",
    "print(planets_after_earth)"
   ]
  },
  {
   "cell_type": "markdown",
   "metadata": {},
   "source": [
    "# `If you don't put the stopping index in the slice, Python assumes that you want to go to the end of the list:`"
   ]
  },
  {
   "cell_type": "code",
   "execution_count": 53,
   "metadata": {},
   "outputs": [
    {
     "name": "stdout",
     "output_type": "stream",
     "text": [
      "['Red Planet', 'Jupiter', 'Saturn', 'Uranus', 'Neptune']\n"
     ]
    }
   ],
   "source": [
    "planets_after = planets[3:]\n",
    "print(planets_after) \n",
    "\n",
    "# A slice creates a new list. It doesn't modify the current list."
   ]
  },
  {
   "cell_type": "markdown",
   "metadata": {},
   "source": [
    "# Join lists\n",
    "\n",
    "You've seen how you can use slices to split up lists, but what about joining them back together?\n",
    "\n",
    "`To join` two lists, you use the other operator `(+)` with two lists to return a new list.\n",
    "\n",
    "There are 79 known moons of Jupiter. \n",
    "\n",
    "The four largest are Io, Europa, Ganymede, and Callisto. \n",
    "\n",
    "These are called the Galilean moons, because Galileo Galilei discovered them by using his telescope in 1610. \n",
    "\n",
    "Closer to Jupiter than the Galilean group is the Amalthea group. \n",
    "\n",
    "It consists of the moons Metis, Adrastea, Amalthea, and Thebe.\n",
    "\n",
    "Create two lists. Populate the first list with the four Amalthea moons and the second list with the four Galilean moons. Join them together by using + to make a new list:"
   ]
  },
  {
   "cell_type": "code",
   "execution_count": 55,
   "metadata": {},
   "outputs": [
    {
     "name": "stdout",
     "output_type": "stream",
     "text": [
      "['lo', 'Europa', 'Ganymede', 'Calisto', 'Metis', 'Adrastea', 'Amalthea', 'Thebe']\n"
     ]
    }
   ],
   "source": [
    "galilean_moons = ['lo', 'Europa', 'Ganymede', 'Calisto']\n",
    "amalthea_group = ['Metis', 'Adrastea', 'Amalthea', 'Thebe']\n",
    "new_moons = galilean_moons + amalthea_group\n",
    "print(new_moons)\n",
    "#Joining lists creates a new list. It doesn't modify the current list."
   ]
  },
  {
   "cell_type": "markdown",
   "metadata": {},
   "source": [
    "# `Sort lists`\n",
    "\n",
    "\n",
    "To sort a list, use the `.sort() method on the list`. \n",
    "\n",
    "Python will sort a list of `strings in alphabetical order` and a list of `numbers in numeric order`:"
   ]
  },
  {
   "cell_type": "code",
   "execution_count": 57,
   "metadata": {},
   "outputs": [
    {
     "name": "stdout",
     "output_type": "stream",
     "text": [
      "['Adrastea', 'Amalthea', 'Calisto', 'Europa', 'Ganymede', 'Metis', 'Thebe', 'lo']\n",
      "['lo', 'Thebe', 'Metis', 'Ganymede', 'Europa', 'Calisto', 'Amalthea', 'Adrastea']\n"
     ]
    }
   ],
   "source": [
    "new_moons.sort()\n",
    "print(new_moons)\n",
    "\n",
    "#To sort a list in reverse order, call .sort(reverse=True) on the list:\n",
    "\n",
    "new_moons.sort(reverse=True)\n",
    "print(new_moons)"
   ]
  },
  {
   "cell_type": "markdown",
   "metadata": {},
   "source": [
    "# `Using sort modifies the current list.`"
   ]
  },
  {
   "cell_type": "markdown",
   "metadata": {},
   "source": [
    "`EXC 1`\n"
   ]
  },
  {
   "cell_type": "code",
   "execution_count": 60,
   "metadata": {},
   "outputs": [],
   "source": [
    "planets = [\"Mercury\", \"Venus\", \"Earth\", \"Mars\", \"Jupiter\", \"Saturn\", \"Neptune\"]\n",
    "# Prompt the user for the reference planet\n",
    "#Next you will add the code to prompt the user for the name of a planet. You will do this by using input. Because strings are case sensitive in Python, ask the user to use a capital letter to start the name of the planet.\n",
    "\n",
    "user_planet = input('Please enter the name of the planet (with capital letter at start)')"
   ]
  },
  {
   "cell_type": "markdown",
   "metadata": {},
   "source": [
    "# Find the location of the selected planet\n",
    "\n",
    "Now it's time to determine which planets are closer than the one that the user entered. To do this, you need to find where he planet is in the list. \n",
    "\n",
    "`You can use the index method to perform this operation.` \n",
    "\n",
    "Add the code to find the index of the planet, and store it in a variable named `planet_index`."
   ]
  },
  {
   "cell_type": "code",
   "execution_count": 61,
   "metadata": {},
   "outputs": [],
   "source": [
    "planet_index = planets.index(user_planet)\n"
   ]
  },
  {
   "cell_type": "markdown",
   "metadata": {},
   "source": [
    "# Display planets closer to the sun\n",
    "\n",
    "With the index determined, you can now add the code to display planets closer to the sun than the one selected. \n",
    "\n",
    "Use the `slicing` abilities of a list to display all planets up to the one selected.\n",
    "\n"
   ]
  },
  {
   "cell_type": "code",
   "execution_count": 67,
   "metadata": {},
   "outputs": [
    {
     "name": "stdout",
     "output_type": "stream",
     "text": [
      "Venus\n",
      "['Mercury']\n",
      "['Earth', 'Mars', 'Jupiter', 'Saturn', 'Neptune']\n"
     ]
    }
   ],
   "source": [
    "print(user_planet)\n",
    "print(planets[0:planet_index]) #planets closer to the sun\n",
    "print(planets[planet_index + 1:]) #planets farther to the sun"
   ]
  }
 ],
 "metadata": {
  "kernelspec": {
   "display_name": "Python 3.10.4 ('env': venv)",
   "language": "python",
   "name": "python3"
  },
  "language_info": {
   "codemirror_mode": {
    "name": "ipython",
    "version": 3
   },
   "file_extension": ".py",
   "mimetype": "text/x-python",
   "name": "python",
   "nbconvert_exporter": "python",
   "pygments_lexer": "ipython3",
   "version": "3.10.4"
  },
  "orig_nbformat": 4,
  "vscode": {
   "interpreter": {
    "hash": "1872149bdc4a65c263bf4d65a55bf0f6ee3f2abf08c4eafb5e5fc685078fa7e7"
   }
  }
 },
 "nbformat": 4,
 "nbformat_minor": 2
}
